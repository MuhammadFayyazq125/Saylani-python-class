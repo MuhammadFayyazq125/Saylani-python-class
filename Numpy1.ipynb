{
  "nbformat": 4,
  "nbformat_minor": 0,
  "metadata": {
    "kernelspec": {
      "display_name": "Python 3",
      "language": "python",
      "name": "python3"
    },
    "language_info": {
      "codemirror_mode": {
        "name": "ipython",
        "version": 3
      },
      "file_extension": ".py",
      "mimetype": "text/x-python",
      "name": "python",
      "nbconvert_exporter": "python",
      "pygments_lexer": "ipython3",
      "version": "3.7.4"
    },
    "colab": {
      "name": "Numpy1.ipynb",
      "provenance": [],
      "include_colab_link": true
    }
  },
  "cells": [
    {
      "cell_type": "markdown",
      "metadata": {
        "id": "view-in-github",
        "colab_type": "text"
      },
      "source": [
        "<a href=\"https://colab.research.google.com/github/MuhammadFayyazq125/Saylani-python-class/blob/main/Numpy1.ipynb\" target=\"_parent\"><img src=\"https://colab.research.google.com/assets/colab-badge.svg\" alt=\"Open In Colab\"/></a>"
      ]
    },
    {
      "cell_type": "markdown",
      "metadata": {
        "id": "VzcziWehjpIm"
      },
      "source": [
        "# NumPy, \n",
        "short for Numerical Python, is one of the most important foundational packages for numerical computing in Python. Most computational packages providing scientific functionality use NumPy’s array objects as the lingua franca for data exchange."
      ]
    },
    {
      "cell_type": "markdown",
      "metadata": {
        "id": "WbK1csIRjpIr"
      },
      "source": [
        "# Benefits and characteristics of NumPy arrays\n",
        "NumPy arrays have several advantages over Python lists. These benefits are focused\n",
        "on providing high-performance manipulation of sequences of homogenous data\n",
        "items. Several of these benefits are as follows:\n",
        "\n",
        "• Contiguous allocation in memory\n",
        "\n",
        "• Vectorized operations\n",
        "\n",
        "• Boolean selection\n",
        "\n",
        "• Sliceability"
      ]
    },
    {
      "cell_type": "markdown",
      "metadata": {
        "id": "kz7E3X7-jpIs"
      },
      "source": [
        "# Contiguous allocation in memory:\n",
        "provides benefits in performance by ensuring that\n",
        "all elements of an array are directly accessible at a fixed offset from the beginning\n",
        "of the array. This also is a computer organization technique that facilities providing\n",
        "vectorized operations across arrays."
      ]
    },
    {
      "cell_type": "markdown",
      "metadata": {
        "id": "5feS1tqyjpIs"
      },
      "source": [
        "# Vectorized operation:\n",
        "is a technique of applying an operation across all or a subset\n",
        "of elements without explicit coding of loops. Vectorized operations are often orders\n",
        "of magnitude more efficient in execution as compared to loops implemented in a\n",
        "higher-level language. They are also excellent for reducing the amount of code that\n",
        "needs to be written, which also helps in minimizing coding errors."
      ]
    },
    {
      "cell_type": "markdown",
      "metadata": {
        "id": "fy9FiBHTjpIs"
      },
      "source": [
        "# Boolean selection:\n",
        "is a common pattern that we will see with NumPy and pandas\n",
        "where selection of elements from an array is based on specific logical criteria. This\n",
        "consists of calculating an array of Boolean values where True represents that the\n",
        "given item should be in the result set. This array can then be used to efficiently select\n",
        "the matching items.\n"
      ]
    },
    {
      "cell_type": "markdown",
      "metadata": {
        "id": "CbxR0QbAjpIt"
      },
      "source": [
        "# Sliceability\n",
        "provides the programmer with a very efficient means to specify multiple\n",
        "elements in an array using a convenient notation. Slicing becomes invaluable when\n",
        "working with data in an ad hoc manner. The slicing process also benefits from being\n",
        "able to take advantage of the contiguous memory allocation of arrays to optimize\n",
        "access to series of items."
      ]
    },
    {
      "cell_type": "markdown",
      "metadata": {
        "id": "6mpO5hb_jpIt"
      },
      "source": [
        "# Example:\n",
        "to see the benefits of Contimuous Allocation of memory and Vectorize operation.\n",
        "The following example calculates the time required by the for loop in Python to square a list consisting of 100,000 sequential integers:"
      ]
    },
    {
      "cell_type": "code",
      "metadata": {
        "id": "_1YrldG5jpIt"
      },
      "source": [
        "def squares(values):\n",
        "    result = []\n",
        "    for v in values:\n",
        "        result.append(v * v)\n",
        "    return result"
      ],
      "execution_count": null,
      "outputs": []
    },
    {
      "cell_type": "code",
      "metadata": {
        "id": "89OhSRfXjpIu"
      },
      "source": [
        "to_square = range(100000)"
      ],
      "execution_count": null,
      "outputs": []
    },
    {
      "cell_type": "markdown",
      "metadata": {
        "id": "62AeiXpQjpIu"
      },
      "source": [
        "# time how long it takes to repeatedly square them all\n"
      ]
    },
    {
      "cell_type": "code",
      "metadata": {
        "id": "fU6a29c_jpIu",
        "outputId": "39316010-6e94-444a-c566-77a308b161d9"
      },
      "source": [
        "%timeit squares(to_square)"
      ],
      "execution_count": null,
      "outputs": [
        {
          "output_type": "stream",
          "text": [
            "13.1 ms ± 3.09 ms per loop (mean ± std. dev. of 7 runs, 100 loops each)\n"
          ],
          "name": "stdout"
        }
      ]
    },
    {
      "cell_type": "markdown",
      "metadata": {
        "id": "GsS28LYJjpIv"
      },
      "source": [
        "# Using NumPy and vectorized arrays:\n",
        "The example can be rewritten as follows\n"
      ]
    },
    {
      "cell_type": "code",
      "metadata": {
        "id": "IWZeCz1RjpIv",
        "outputId": "cba519e1-f699-41f1-873a-729ba53872d4"
      },
      "source": [
        "import numpy as np\n",
        "# now lets do this with a numpy array\n",
        "array_to_square = np.arange(0, 100000)\n",
        "\n",
        "\n",
        "# and time using a vectorized operation\n",
        "%timeit array_to_square ** 2"
      ],
      "execution_count": null,
      "outputs": [
        {
          "output_type": "stream",
          "text": [
            "77 µs ± 2.12 µs per loop (mean ± std. dev. of 7 runs, 10000 loops each)\n"
          ],
          "name": "stdout"
        }
      ]
    },
    {
      "cell_type": "markdown",
      "metadata": {
        "id": "XythobVfjpIv"
      },
      "source": [
        "# Creating NumPy arrays and performing basic array operations"
      ]
    },
    {
      "cell_type": "markdown",
      "metadata": {
        "id": "esEfhvVhjpIw"
      },
      "source": [
        "# methods 1\n",
        "\n",
        "A NumPy array can be created using multiple techniques. The following code creates a new NumPy array object from a Python list:"
      ]
    },
    {
      "cell_type": "code",
      "metadata": {
        "id": "hylJhN_rjpIw",
        "outputId": "698fd431-2b2b-427b-a94b-44398b98c00e"
      },
      "source": [
        "arr1 = np.array([11, 22, 33, 44, 55])\n",
        "arr1"
      ],
      "execution_count": null,
      "outputs": [
        {
          "output_type": "error",
          "ename": "NameError",
          "evalue": "name 'np' is not defined",
          "traceback": [
            "\u001b[1;31m---------------------------------------------------------------------------\u001b[0m",
            "\u001b[1;31mNameError\u001b[0m                                 Traceback (most recent call last)",
            "\u001b[1;32m<ipython-input-1-2090024d903b>\u001b[0m in \u001b[0;36m<module>\u001b[1;34m\u001b[0m\n\u001b[1;32m----> 1\u001b[1;33m \u001b[0marr1\u001b[0m \u001b[1;33m=\u001b[0m \u001b[0mnp\u001b[0m\u001b[1;33m.\u001b[0m\u001b[0marray\u001b[0m\u001b[1;33m(\u001b[0m\u001b[1;33m[\u001b[0m\u001b[1;36m11\u001b[0m\u001b[1;33m,\u001b[0m \u001b[1;36m22\u001b[0m\u001b[1;33m,\u001b[0m \u001b[1;36m33\u001b[0m\u001b[1;33m,\u001b[0m \u001b[1;36m44\u001b[0m\u001b[1;33m,\u001b[0m \u001b[1;36m55\u001b[0m\u001b[1;33m]\u001b[0m\u001b[1;33m)\u001b[0m\u001b[1;33m\u001b[0m\u001b[1;33m\u001b[0m\u001b[0m\n\u001b[0m\u001b[0;32m      2\u001b[0m \u001b[0marr1\u001b[0m\u001b[1;33m\u001b[0m\u001b[1;33m\u001b[0m\u001b[0m\n",
            "\u001b[1;31mNameError\u001b[0m: name 'np' is not defined"
          ]
        }
      ]
    },
    {
      "cell_type": "markdown",
      "metadata": {
        "id": "WEZLY6kNjpIw"
      },
      "source": [
        "We can find the type of array, size of array, shape or array and dtype of elements "
      ]
    },
    {
      "cell_type": "code",
      "metadata": {
        "id": "2Gf60-rxjpIw",
        "outputId": "8fad3d40-f8c6-47f7-a81f-747b9fd0ee58"
      },
      "source": [
        "type(arr1)"
      ],
      "execution_count": null,
      "outputs": [
        {
          "output_type": "error",
          "ename": "NameError",
          "evalue": "name 'arr1' is not defined",
          "traceback": [
            "\u001b[1;31m---------------------------------------------------------------------------\u001b[0m",
            "\u001b[1;31mNameError\u001b[0m                                 Traceback (most recent call last)",
            "\u001b[1;32m<ipython-input-2-7d85c92bd1da>\u001b[0m in \u001b[0;36m<module>\u001b[1;34m\u001b[0m\n\u001b[1;32m----> 1\u001b[1;33m \u001b[0mtype\u001b[0m\u001b[1;33m(\u001b[0m\u001b[0marr1\u001b[0m\u001b[1;33m)\u001b[0m\u001b[1;33m\u001b[0m\u001b[1;33m\u001b[0m\u001b[0m\n\u001b[0m",
            "\u001b[1;31mNameError\u001b[0m: name 'arr1' is not defined"
          ]
        }
      ]
    },
    {
      "cell_type": "code",
      "metadata": {
        "id": "7K-8XmgVjpIw",
        "outputId": "7cf79d05-0a6e-424f-9708-5dda23b917b1"
      },
      "source": [
        "np.size(arr1)"
      ],
      "execution_count": null,
      "outputs": [
        {
          "output_type": "execute_result",
          "data": {
            "text/plain": [
              "5"
            ]
          },
          "metadata": {
            "tags": []
          },
          "execution_count": 6
        }
      ]
    },
    {
      "cell_type": "code",
      "metadata": {
        "id": "foUkyFlhjpIx",
        "outputId": "c1d78110-e318-4b2b-e44a-63bae5ec678d"
      },
      "source": [
        "arr1.dtype"
      ],
      "execution_count": null,
      "outputs": [
        {
          "output_type": "execute_result",
          "data": {
            "text/plain": [
              "dtype('int32')"
            ]
          },
          "metadata": {
            "tags": []
          },
          "execution_count": 7
        }
      ]
    },
    {
      "cell_type": "code",
      "metadata": {
        "id": "warziU9BjpIx",
        "outputId": "97b2f8f5-c06a-4d92-d49e-f9a4912a57f6"
      },
      "source": [
        "testArr = np.array([1,2,3,4,5.2])\n",
        "testArr"
      ],
      "execution_count": null,
      "outputs": [
        {
          "output_type": "execute_result",
          "data": {
            "text/plain": [
              "array([1. , 2. , 3. , 4. , 5.2])"
            ]
          },
          "metadata": {
            "tags": []
          },
          "execution_count": 10
        }
      ]
    },
    {
      "cell_type": "code",
      "metadata": {
        "id": "gMoLqWqcjpIx",
        "outputId": "7b8beffb-2c92-45f3-f3bc-fe27b153f6a4"
      },
      "source": [
        "arr1.ndim #returns the dimenssion of the array either it is 1d, 2d, 3d or nd"
      ],
      "execution_count": null,
      "outputs": [
        {
          "output_type": "execute_result",
          "data": {
            "text/plain": [
              "1"
            ]
          },
          "metadata": {
            "tags": []
          },
          "execution_count": 11
        }
      ]
    },
    {
      "cell_type": "markdown",
      "metadata": {
        "id": "XspagpE6jpIx"
      },
      "source": [
        "1d array =[1,2,3]>>> vector dimension>>1\n",
        "2d array = [[1,2,3],[2,3,4]]>>matrix/tensor >>2"
      ]
    },
    {
      "cell_type": "markdown",
      "metadata": {
        "id": "lhTUjPQUjpIy"
      },
      "source": [
        "# method 2\n",
        "\n",
        "We can create a python range into numpyy array"
      ]
    },
    {
      "cell_type": "code",
      "metadata": {
        "id": "5JEuhw5MjpIy",
        "outputId": "b4e76b88-37ba-4df2-b692-e59df9160971"
      },
      "source": [
        "np.array(range(10))"
      ],
      "execution_count": null,
      "outputs": [
        {
          "output_type": "execute_result",
          "data": {
            "text/plain": [
              "array([0, 1, 2, 3, 4, 5, 6, 7, 8, 9])"
            ]
          },
          "metadata": {
            "tags": []
          },
          "execution_count": 12
        }
      ]
    },
    {
      "cell_type": "code",
      "metadata": {
        "id": "NhP0FzKEjpIy",
        "outputId": "b794274e-21ea-4c5a-f4af-7efb1573f8af"
      },
      "source": [
        "np.shape(arr1)"
      ],
      "execution_count": null,
      "outputs": [
        {
          "output_type": "execute_result",
          "data": {
            "text/plain": [
              "(5,)"
            ]
          },
          "metadata": {
            "tags": []
          },
          "execution_count": 14
        }
      ]
    },
    {
      "cell_type": "markdown",
      "metadata": {
        "id": "yHRm4dWNjpIy"
      },
      "source": [
        "# method 3\n",
        "\n",
        "make \"a range\" starting at 0 and with 10 values np.arange(0, 10)"
      ]
    },
    {
      "cell_type": "code",
      "metadata": {
        "id": "MIbK5fhcjpIy",
        "outputId": "b0191da6-810d-46d4-80fc-ccfd8d87a928"
      },
      "source": [
        "np.arange(10)"
      ],
      "execution_count": null,
      "outputs": [
        {
          "output_type": "execute_result",
          "data": {
            "text/plain": [
              "array([0, 1, 2, 3, 4, 5, 6, 7, 8, 9])"
            ]
          },
          "metadata": {
            "tags": []
          },
          "execution_count": 15
        }
      ]
    },
    {
      "cell_type": "code",
      "metadata": {
        "id": "On_Zgx_KjpIz",
        "outputId": "f3973658-e290-4c1a-cb70-beeff04266a0"
      },
      "source": [
        "# 0 <= x < 10 increment by two\n",
        "np.arange(0, 10, 2)  #starting, numberofvalues, step"
      ],
      "execution_count": null,
      "outputs": [
        {
          "output_type": "execute_result",
          "data": {
            "text/plain": [
              "array([0, 2, 4, 6, 8])"
            ]
          },
          "metadata": {
            "tags": []
          },
          "execution_count": 17
        }
      ]
    },
    {
      "cell_type": "code",
      "metadata": {
        "id": "q9oxsQw-jpIz",
        "outputId": "1b847711-d50a-40fc-b942-321a00ca318d"
      },
      "source": [
        "# 10 >= x > 0, counting down\n",
        "np.arange(10, 0, -1)"
      ],
      "execution_count": null,
      "outputs": [
        {
          "output_type": "execute_result",
          "data": {
            "text/plain": [
              "array([10,  9,  8,  7,  6,  5,  4,  3,  2,  1])"
            ]
          },
          "metadata": {
            "tags": []
          },
          "execution_count": 18
        }
      ]
    },
    {
      "cell_type": "code",
      "metadata": {
        "id": "pSxhRaa6jpIz",
        "outputId": "23fcbffd-bc16-470a-cfeb-a94712cfe092"
      },
      "source": [
        "# evenly spaced #'s between two intervals\n",
        "np.linspace(0, 10, 20)"
      ],
      "execution_count": null,
      "outputs": [
        {
          "output_type": "execute_result",
          "data": {
            "text/plain": [
              "array([ 0.        ,  0.52631579,  1.05263158,  1.57894737,  2.10526316,\n",
              "        2.63157895,  3.15789474,  3.68421053,  4.21052632,  4.73684211,\n",
              "        5.26315789,  5.78947368,  6.31578947,  6.84210526,  7.36842105,\n",
              "        7.89473684,  8.42105263,  8.94736842,  9.47368421, 10.        ])"
            ]
          },
          "metadata": {
            "tags": []
          },
          "execution_count": 19
        }
      ]
    },
    {
      "cell_type": "markdown",
      "metadata": {
        "id": "z8i96zz1jpIz"
      },
      "source": [
        "# Array creation functions"
      ]
    },
    {
      "cell_type": "markdown",
      "metadata": {
        "id": "UCedYLxpjpI0"
      },
      "source": [
        "![NumpyArrayCreationFunctions.png](attachment:NumpyArrayCreationFunctions.png)"
      ]
    },
    {
      "cell_type": "markdown",
      "metadata": {
        "id": "TL0j9c-RjpI0"
      },
      "source": [
        "# Expicitly Convert /Cast Data type of ndarray"
      ]
    },
    {
      "cell_type": "code",
      "metadata": {
        "id": "NQgr46iCjpI0",
        "outputId": "1b0e40aa-d0d7-4a96-b243-059b0658b6ec"
      },
      "source": [
        "int_arr = np.array([100, 200, 300, 400, 500])\n",
        "int_arr.dtype"
      ],
      "execution_count": null,
      "outputs": [
        {
          "output_type": "execute_result",
          "data": {
            "text/plain": [
              "dtype('int32')"
            ]
          },
          "metadata": {
            "tags": []
          },
          "execution_count": 20
        }
      ]
    },
    {
      "cell_type": "code",
      "metadata": {
        "id": "EqYB9Qo6jpI0",
        "outputId": "f3371648-6779-4bdc-8d8c-61512a9e88dc"
      },
      "source": [
        "float_arr = int_arr.astype(np.float64)\n",
        "float_arr.dtype"
      ],
      "execution_count": null,
      "outputs": [
        {
          "output_type": "execute_result",
          "data": {
            "text/plain": [
              "dtype('float64')"
            ]
          },
          "metadata": {
            "tags": []
          },
          "execution_count": 21
        }
      ]
    },
    {
      "cell_type": "markdown",
      "metadata": {
        "id": "P-AjTeMEjpI1"
      },
      "source": [
        "# Note:\n",
        "Casting floating point into integer data type will truncate the decimal part"
      ]
    },
    {
      "cell_type": "code",
      "metadata": {
        "id": "pY7xW9xjjpI1",
        "outputId": "908c8f31-c7eb-4dc4-d935-9c570fd09f7f"
      },
      "source": [
        "arr2 = np.array([3.7, -1.2, -2.6, 0.5, 12.9, 10.1])\n",
        "arr2\n"
      ],
      "execution_count": null,
      "outputs": [
        {
          "output_type": "execute_result",
          "data": {
            "text/plain": [
              "array([ 3.7, -1.2, -2.6,  0.5, 12.9, 10.1])"
            ]
          },
          "metadata": {
            "tags": []
          },
          "execution_count": 22
        }
      ]
    },
    {
      "cell_type": "code",
      "metadata": {
        "id": "N1eSg_9ojpI1",
        "outputId": "d121fd2d-83ca-460c-a58f-a02ca0963a22"
      },
      "source": [
        "arr3 = arr2.astype(np.int32)\n",
        "arr3"
      ],
      "execution_count": null,
      "outputs": [
        {
          "output_type": "execute_result",
          "data": {
            "text/plain": [
              "array([ 3, -1, -2,  0, 12, 10])"
            ]
          },
          "metadata": {
            "tags": []
          },
          "execution_count": 23
        }
      ]
    },
    {
      "cell_type": "markdown",
      "metadata": {
        "id": "gx1p0DdEjpI1"
      },
      "source": [
        "# Arithmetic with NumPy Arrays"
      ]
    },
    {
      "cell_type": "markdown",
      "metadata": {
        "id": "RNdxZVrmjpI1"
      },
      "source": [
        "NumPy arrays will vectorize many mathematical operators. The following example\n",
        "creates a 10-element array and then multiplies each element by a constant:"
      ]
    },
    {
      "cell_type": "code",
      "metadata": {
        "id": "qgCUSwCfjpI2",
        "outputId": "188c3ca7-229c-4e14-f3d7-a742a9877178"
      },
      "source": [
        "# multiply numpy array by 2\n",
        "a1 = np.arange(0, 10)\n",
        "a1 * 2"
      ],
      "execution_count": null,
      "outputs": [
        {
          "output_type": "execute_result",
          "data": {
            "text/plain": [
              "array([ 0,  2,  4,  6,  8, 10, 12, 14, 16, 18])"
            ]
          },
          "metadata": {
            "tags": []
          },
          "execution_count": 24
        }
      ]
    },
    {
      "cell_type": "code",
      "metadata": {
        "id": "GjqrTT-bjpI2",
        "outputId": "27c5a209-44c6-4731-c416-56550b54eed9"
      },
      "source": [
        "# add two numpy arrays\n",
        "a2 = np.arange(10, 20)\n",
        "a1 + a2"
      ],
      "execution_count": null,
      "outputs": [
        {
          "output_type": "execute_result",
          "data": {
            "text/plain": [
              "array([10, 12, 14, 16, 18, 20, 22, 24, 26, 28])"
            ]
          },
          "metadata": {
            "tags": []
          },
          "execution_count": 25
        }
      ]
    },
    {
      "cell_type": "markdown",
      "metadata": {
        "id": "A6dLhQrLjpI3"
      },
      "source": [
        "# Accessing 1-D array elements:"
      ]
    },
    {
      "cell_type": "code",
      "metadata": {
        "id": "JcqkudUPjpI4",
        "outputId": "30c540a1-f4fd-45ee-ea3c-9eaba8b4b6d9"
      },
      "source": [
        "a2[0]"
      ],
      "execution_count": null,
      "outputs": [
        {
          "output_type": "execute_result",
          "data": {
            "text/plain": [
              "10"
            ]
          },
          "metadata": {
            "tags": []
          },
          "execution_count": 26
        }
      ]
    },
    {
      "cell_type": "code",
      "metadata": {
        "id": "d928Ku08jpI4",
        "outputId": "e96403f9-33b9-4aec-8067-40ce98ef8977"
      },
      "source": [
        "a2[-1]"
      ],
      "execution_count": null,
      "outputs": [
        {
          "output_type": "execute_result",
          "data": {
            "text/plain": [
              "19"
            ]
          },
          "metadata": {
            "tags": []
          },
          "execution_count": 27
        }
      ]
    },
    {
      "cell_type": "code",
      "metadata": {
        "id": "7DnP6NLRjpI4",
        "outputId": "db045e73-7859-49a0-ea4b-0c140379aa64"
      },
      "source": [
        "# select 0-based elements 0 and 2\n",
        "a1[0], a1[2]"
      ],
      "execution_count": null,
      "outputs": [
        {
          "output_type": "execute_result",
          "data": {
            "text/plain": [
              "(0, 2)"
            ]
          },
          "metadata": {
            "tags": []
          },
          "execution_count": 28
        }
      ]
    },
    {
      "cell_type": "markdown",
      "metadata": {
        "id": "KITYnKCzjpI4"
      },
      "source": [
        "# 2d numpy Array"
      ]
    },
    {
      "cell_type": "markdown",
      "metadata": {
        "id": "ua3PUpXrjpI4"
      },
      "source": [
        "Creating a 2d array by python list "
      ]
    },
    {
      "cell_type": "code",
      "metadata": {
        "id": "BTITixV2jpI4",
        "outputId": "0a7f84bb-4fee-462c-8db3-55a20c60450f"
      },
      "source": [
        "arr2d = np.array([[1,2,3,4,5,6], [11,22,33,44,55,66]])\n",
        "arr2d"
      ],
      "execution_count": null,
      "outputs": [
        {
          "output_type": "execute_result",
          "data": {
            "text/plain": [
              "array([[ 1,  2,  3,  4,  5,  6],\n",
              "       [11, 22, 33, 44, 55, 66]])"
            ]
          },
          "metadata": {
            "tags": []
          },
          "execution_count": 29
        }
      ]
    },
    {
      "cell_type": "markdown",
      "metadata": {
        "id": "jkKqXRyPjpI5"
      },
      "source": [
        "A more convenient and efficient means is to use the NumPy array's \n",
        "\n",
        "       >>> np.reshape()<<<<\n",
        "       \n",
        "method to reorganize a one-dimensional array into two dimensions."
      ]
    },
    {
      "cell_type": "code",
      "metadata": {
        "id": "mwFiA9AejpI5",
        "outputId": "4425fcab-0f81-4ead-86d6-5e13c6f95e4d"
      },
      "source": [
        "arr1d = np.arange(20)\n",
        "arr1d"
      ],
      "execution_count": null,
      "outputs": [
        {
          "output_type": "execute_result",
          "data": {
            "text/plain": [
              "array([ 0,  1,  2,  3,  4,  5,  6,  7,  8,  9, 10, 11, 12, 13, 14, 15, 16,\n",
              "       17, 18, 19])"
            ]
          },
          "metadata": {
            "tags": []
          },
          "execution_count": 30
        }
      ]
    },
    {
      "cell_type": "code",
      "metadata": {
        "id": "RUHMJBDejpI5",
        "outputId": "39507e14-4902-4be1-c60e-7d6d79941c9d"
      },
      "source": [
        "arr2d = arr1d.reshape(4,5)\n",
        "arr2d"
      ],
      "execution_count": null,
      "outputs": [
        {
          "output_type": "execute_result",
          "data": {
            "text/plain": [
              "array([[ 0,  1,  2,  3,  4],\n",
              "       [ 5,  6,  7,  8,  9],\n",
              "       [10, 11, 12, 13, 14],\n",
              "       [15, 16, 17, 18, 19]])"
            ]
          },
          "metadata": {
            "tags": []
          },
          "execution_count": 32
        }
      ]
    },
    {
      "cell_type": "code",
      "metadata": {
        "id": "Wd9uE0_WjpI5",
        "outputId": "ed5b47b8-29fa-4495-aa9b-0e8377560715"
      },
      "source": [
        "arr2d = np.arange(20).reshape(4,5)\n",
        "arr2d"
      ],
      "execution_count": null,
      "outputs": [
        {
          "output_type": "execute_result",
          "data": {
            "text/plain": [
              "array([[ 0,  1,  2,  3,  4],\n",
              "       [ 5,  6,  7,  8,  9],\n",
              "       [10, 11, 12, 13, 14],\n",
              "       [15, 16, 17, 18, 19]])"
            ]
          },
          "metadata": {
            "tags": []
          },
          "execution_count": 33
        }
      ]
    },
    {
      "cell_type": "code",
      "metadata": {
        "id": "j6SenWFVjpI5",
        "outputId": "c372d413-9d79-40c9-d7b0-20d2bffb420a"
      },
      "source": [
        "# size of any dimensional array is the # of elements\n",
        "np.size(arr2d)"
      ],
      "execution_count": null,
      "outputs": [
        {
          "output_type": "execute_result",
          "data": {
            "text/plain": [
              "20"
            ]
          },
          "metadata": {
            "tags": []
          },
          "execution_count": 35
        }
      ]
    },
    {
      "cell_type": "code",
      "metadata": {
        "id": "xyKMnY5yjpI6",
        "outputId": "ef4202ec-1230-488d-8bbc-80b6d1561f2f"
      },
      "source": [
        "# can ask the size along a given axis (0 is rows)\n",
        "np.size(arr2d, 0)"
      ],
      "execution_count": null,
      "outputs": [
        {
          "output_type": "execute_result",
          "data": {
            "text/plain": [
              "4"
            ]
          },
          "metadata": {
            "tags": []
          },
          "execution_count": 36
        }
      ]
    },
    {
      "cell_type": "code",
      "metadata": {
        "id": "cKovE9PDjpI6",
        "outputId": "9672dede-baba-4f44-e939-be233027e50a"
      },
      "source": [
        "# and 1 is the columns\n",
        "np.size(arr2d, 1)"
      ],
      "execution_count": null,
      "outputs": [
        {
          "output_type": "execute_result",
          "data": {
            "text/plain": [
              "5"
            ]
          },
          "metadata": {
            "tags": []
          },
          "execution_count": 37
        }
      ]
    },
    {
      "cell_type": "code",
      "metadata": {
        "id": "A4ORbeLyjpI6",
        "outputId": "c4ca54b5-63d6-4f81-939b-54305f168f0f"
      },
      "source": [
        "arr2d.shape"
      ],
      "execution_count": null,
      "outputs": [
        {
          "output_type": "execute_result",
          "data": {
            "text/plain": [
              "(4, 5)"
            ]
          },
          "metadata": {
            "tags": []
          },
          "execution_count": 38
        }
      ]
    },
    {
      "cell_type": "code",
      "metadata": {
        "id": "824SB3yvjpI6"
      },
      "source": [
        "# a 2d array again can be reshaped to 1d"
      ],
      "execution_count": null,
      "outputs": []
    },
    {
      "cell_type": "code",
      "metadata": {
        "id": "EmjzLCd1jpI6",
        "outputId": "f475f961-4697-437c-f43f-03893d80ab9c"
      },
      "source": [
        "# arr1d = arr2d.reshape(20)  # in this way we need to know how many elements are there in original array\n",
        "# print(arr1d)                      # we are open to reshape to any dimension either 1d or other\n",
        "\n",
        "print(\"======================================================\")\n",
        "# reshaping a 2darray to 3darray\n",
        "arr2d = np.arange(64).reshape(8,8)\n",
        "\n",
        "print(arr2d)\n",
        "\n",
        "print(\"============================\")\n",
        "arr3d = arr2d.reshape(2,4,8)  #(depth, rows,columns)\n",
        "arr3d"
      ],
      "execution_count": null,
      "outputs": [
        {
          "output_type": "stream",
          "text": [
            "======================================================\n",
            "[[ 0  1  2  3  4  5  6  7]\n",
            " [ 8  9 10 11 12 13 14 15]\n",
            " [16 17 18 19 20 21 22 23]\n",
            " [24 25 26 27 28 29 30 31]\n",
            " [32 33 34 35 36 37 38 39]\n",
            " [40 41 42 43 44 45 46 47]\n",
            " [48 49 50 51 52 53 54 55]\n",
            " [56 57 58 59 60 61 62 63]]\n",
            "============================\n"
          ],
          "name": "stdout"
        },
        {
          "output_type": "execute_result",
          "data": {
            "text/plain": [
              "array([[[ 0,  1,  2,  3,  4,  5,  6,  7],\n",
              "        [ 8,  9, 10, 11, 12, 13, 14, 15],\n",
              "        [16, 17, 18, 19, 20, 21, 22, 23],\n",
              "        [24, 25, 26, 27, 28, 29, 30, 31]],\n",
              "\n",
              "       [[32, 33, 34, 35, 36, 37, 38, 39],\n",
              "        [40, 41, 42, 43, 44, 45, 46, 47],\n",
              "        [48, 49, 50, 51, 52, 53, 54, 55],\n",
              "        [56, 57, 58, 59, 60, 61, 62, 63]]])"
            ]
          },
          "metadata": {
            "tags": []
          },
          "execution_count": 41
        }
      ]
    },
    {
      "cell_type": "markdown",
      "metadata": {
        "id": "kfCOV8MPjpI7"
      },
      "source": [
        "#             >>>>>np.ravel()>>>>>\n",
        "is another methods but it direclty converts the array to 1d only"
      ]
    },
    {
      "cell_type": "code",
      "metadata": {
        "id": "S2F8Ygi2jpI7",
        "outputId": "9390bb26-fb70-43be-a818-88a77e203fe7"
      },
      "source": [
        "raveled_arr1d = arr2d.ravel()\n",
        "raveled_arr1d"
      ],
      "execution_count": null,
      "outputs": [
        {
          "output_type": "execute_result",
          "data": {
            "text/plain": [
              "array([ 0,  1,  2,  3,  4,  5,  6,  7,  8,  9, 10, 11, 12, 13, 14, 15, 16,\n",
              "       17, 18, 19, 20, 21, 22, 23, 24, 25, 26, 27, 28, 29, 30, 31, 32, 33,\n",
              "       34, 35, 36, 37, 38, 39, 40, 41, 42, 43, 44, 45, 46, 47, 48, 49, 50,\n",
              "       51, 52, 53, 54, 55, 56, 57, 58, 59, 60, 61, 62, 63])"
            ]
          },
          "metadata": {
            "tags": []
          },
          "execution_count": 43
        }
      ]
    },
    {
      "cell_type": "markdown",
      "metadata": {
        "id": "mG2jVz1gjpI7"
      },
      "source": [
        "                            >>>>>>>>np.ravel() and np.reshape()<<<<<<<<<"
      ]
    },
    {
      "cell_type": "markdown",
      "metadata": {
        "id": "wIZ09lPejpI7"
      },
      "source": [
        "Even though .reshape() and .ravel() do not change the shape of the original\n",
        "array or matrix, they do actually return a one-dimensional view into the specified\n",
        "array or matrix. If you change an element in this view, the value in the original array\n",
        "or matrix is changed. The following example demonstrates this ability to change\n",
        "items of the original matrix through the view:"
      ]
    },
    {
      "cell_type": "code",
      "metadata": {
        "id": "TIcUo9uTjpI7",
        "outputId": "8ded261b-0500-4d5e-8d15-ba8ad3b8b934"
      },
      "source": [
        "raveled_arr1d[0]=999\n",
        "raveled_arr1d"
      ],
      "execution_count": null,
      "outputs": [
        {
          "output_type": "execute_result",
          "data": {
            "text/plain": [
              "array([999,   1,   2,   3,   4,   5,   6,   7,   8,   9,  10,  11,  12,\n",
              "        13,  14,  15,  16,  17,  18,  19,  20,  21,  22,  23,  24,  25,\n",
              "        26,  27,  28,  29,  30,  31,  32,  33,  34,  35,  36,  37,  38,\n",
              "        39,  40,  41,  42,  43,  44,  45,  46,  47,  48,  49,  50,  51,\n",
              "        52,  53,  54,  55,  56,  57,  58,  59,  60,  61,  62,  63])"
            ]
          },
          "metadata": {
            "tags": []
          },
          "execution_count": 44
        }
      ]
    },
    {
      "cell_type": "code",
      "metadata": {
        "id": "56Nmj1ynjpI8",
        "outputId": "7258ac0f-388f-4d9e-d190-b9ad4cae4ad3"
      },
      "source": [
        "arr2d  # array shows the effect of change in ravel"
      ],
      "execution_count": null,
      "outputs": [
        {
          "output_type": "execute_result",
          "data": {
            "text/plain": [
              "array([[999,   1,   2,   3,   4,   5,   6,   7],\n",
              "       [  8,   9,  10,  11,  12,  13,  14,  15],\n",
              "       [ 16,  17,  18,  19,  20,  21,  22,  23],\n",
              "       [ 24,  25,  26,  27,  28,  29,  30,  31],\n",
              "       [ 32,  33,  34,  35,  36,  37,  38,  39],\n",
              "       [ 40,  41,  42,  43,  44,  45,  46,  47],\n",
              "       [ 48,  49,  50,  51,  52,  53,  54,  55],\n",
              "       [ 56,  57,  58,  59,  60,  61,  62,  63]])"
            ]
          },
          "metadata": {
            "tags": []
          },
          "execution_count": 45
        }
      ]
    },
    {
      "cell_type": "code",
      "metadata": {
        "id": "IEXszqFBjpI8",
        "outputId": "4a5b4362-59ec-44f0-f2f7-b83c50ae6d16"
      },
      "source": [
        "array2d = np.arange(9).reshape(3,3)\n",
        "array2d"
      ],
      "execution_count": null,
      "outputs": [
        {
          "output_type": "execute_result",
          "data": {
            "text/plain": [
              "array([[0, 1, 2],\n",
              "       [3, 4, 5],\n",
              "       [6, 7, 8]])"
            ]
          },
          "metadata": {
            "tags": []
          },
          "execution_count": 46
        }
      ]
    },
    {
      "cell_type": "code",
      "metadata": {
        "id": "45fK5B0UjpI8",
        "outputId": "181d97ab-a9ca-46db-d95a-dfb7185f6e28"
      },
      "source": [
        "array1d=array2d.reshape(9)\n",
        "array1d"
      ],
      "execution_count": null,
      "outputs": [
        {
          "output_type": "execute_result",
          "data": {
            "text/plain": [
              "array([0, 1, 2, 3, 4, 5, 6, 7, 8])"
            ]
          },
          "metadata": {
            "tags": []
          },
          "execution_count": 47
        }
      ]
    },
    {
      "cell_type": "code",
      "metadata": {
        "id": "n9dv632YjpI8",
        "outputId": "8a9c7735-ac40-4652-c61e-402a2d49dc35"
      },
      "source": [
        "array1d[0]=777.0\n",
        "array1d"
      ],
      "execution_count": null,
      "outputs": [
        {
          "output_type": "execute_result",
          "data": {
            "text/plain": [
              "array([777,   1,   2,   3,   4,   5,   6,   7,   8])"
            ]
          },
          "metadata": {
            "tags": []
          },
          "execution_count": 50
        }
      ]
    },
    {
      "cell_type": "code",
      "metadata": {
        "id": "4EgsSnjgjpI9",
        "outputId": "49b3f062-6168-4554-b80d-c380dd9af135"
      },
      "source": [
        "array2d # show the change done in array1d coz array 1d is view of array2d"
      ],
      "execution_count": null,
      "outputs": [
        {
          "output_type": "execute_result",
          "data": {
            "text/plain": [
              "array([[777,   1,   2],\n",
              "       [  3,   4,   5],\n",
              "       [  6,   7,   8]])"
            ]
          },
          "metadata": {
            "tags": []
          },
          "execution_count": 51
        }
      ]
    },
    {
      "cell_type": "markdown",
      "metadata": {
        "id": "8WzRuwV9jpI9"
      },
      "source": [
        "#             >>>>>np.flatten()>>>>>\n",
        "\n",
        "is another methods but it direclty converts the array to 1d only. The .flatten() method functions similarly to .ravel() but instead returns a new\n",
        "array with copied data instead of a view. Changes to the result do not change the\n",
        "original matrix:"
      ]
    },
    {
      "cell_type": "code",
      "metadata": {
        "id": "45Na12yZjpI9",
        "outputId": "8e2d5e1e-3b6a-4c79-acd5-d4edaf0e9228"
      },
      "source": [
        "array = np.arange(25).reshape(5,5)\n",
        "array"
      ],
      "execution_count": null,
      "outputs": [
        {
          "output_type": "execute_result",
          "data": {
            "text/plain": [
              "array([[ 0,  1,  2,  3,  4],\n",
              "       [ 5,  6,  7,  8,  9],\n",
              "       [10, 11, 12, 13, 14],\n",
              "       [15, 16, 17, 18, 19],\n",
              "       [20, 21, 22, 23, 24]])"
            ]
          },
          "metadata": {
            "tags": []
          },
          "execution_count": 52
        }
      ]
    },
    {
      "cell_type": "code",
      "metadata": {
        "id": "51LC205kjpI9",
        "outputId": "fddd9ef4-97cf-4df4-fe0c-a789dd115286"
      },
      "source": [
        "flattened_array = array.flatten()\n",
        "flattened_array"
      ],
      "execution_count": null,
      "outputs": [
        {
          "output_type": "execute_result",
          "data": {
            "text/plain": [
              "array([ 0,  1,  2,  3,  4,  5,  6,  7,  8,  9, 10, 11, 12, 13, 14, 15, 16,\n",
              "       17, 18, 19, 20, 21, 22, 23, 24])"
            ]
          },
          "metadata": {
            "tags": []
          },
          "execution_count": 53
        }
      ]
    },
    {
      "cell_type": "code",
      "metadata": {
        "id": "jg16vYnXjpI9",
        "outputId": "dcbf49a9-5515-4af6-8635-742eed9528be"
      },
      "source": [
        "flattened_array[0]=555\n",
        "flattened_array"
      ],
      "execution_count": null,
      "outputs": [
        {
          "output_type": "execute_result",
          "data": {
            "text/plain": [
              "array([555,   1,   2,   3,   4,   5,   6,   7,   8,   9,  10,  11,  12,\n",
              "        13,  14,  15,  16,  17,  18,  19,  20,  21,  22,  23,  24])"
            ]
          },
          "metadata": {
            "tags": []
          },
          "execution_count": 54
        }
      ]
    },
    {
      "cell_type": "code",
      "metadata": {
        "id": "SkYUInlUjpI-",
        "outputId": "b615f09a-5a04-4f17-e121-b6ed02361675"
      },
      "source": [
        "array # there is no effect in original"
      ],
      "execution_count": null,
      "outputs": [
        {
          "output_type": "execute_result",
          "data": {
            "text/plain": [
              "array([[ 0,  1,  2,  3,  4],\n",
              "       [ 5,  6,  7,  8,  9],\n",
              "       [10, 11, 12, 13, 14],\n",
              "       [15, 16, 17, 18, 19],\n",
              "       [20, 21, 22, 23, 24]])"
            ]
          },
          "metadata": {
            "tags": []
          },
          "execution_count": 55
        }
      ]
    },
    {
      "cell_type": "markdown",
      "metadata": {
        "id": "BLmGFVNnjpI-"
      },
      "source": [
        "# np.resize() Danger!!!!"
      ]
    },
    {
      "cell_type": "markdown",
      "metadata": {
        "id": "oWRVrOVOjpI-"
      },
      "source": [
        "The .resize() method functions similarly to the .reshape() method, except\n",
        "that while reshaping returns a new array with data copied into it, .resize()\n",
        "performs an in-place reshaping of the array.:"
      ]
    },
    {
      "cell_type": "code",
      "metadata": {
        "id": "P6a6J5C2jpI-",
        "outputId": "f71cc4a8-833c-44df-ba4b-3be0af45f652"
      },
      "source": [
        "newarray = np.arange(0, 9).reshape(3,3)\n",
        "newarray"
      ],
      "execution_count": null,
      "outputs": [
        {
          "output_type": "execute_result",
          "data": {
            "text/plain": [
              "array([[0, 1, 2],\n",
              "       [3, 4, 5],\n",
              "       [6, 7, 8]])"
            ]
          },
          "metadata": {
            "tags": []
          },
          "execution_count": 56
        }
      ]
    },
    {
      "cell_type": "code",
      "metadata": {
        "id": "aLiKSPCRjpI-"
      },
      "source": [
        "resized = newarray.resize(1,9)\n",
        "resized  # it is returning none infact it changed the original data\n"
      ],
      "execution_count": null,
      "outputs": []
    },
    {
      "cell_type": "code",
      "metadata": {
        "id": "bMtZSUKDjpI-",
        "outputId": "93e54d39-b1aa-4b52-9df1-8dc046af55fd"
      },
      "source": [
        "newarray"
      ],
      "execution_count": null,
      "outputs": [
        {
          "output_type": "execute_result",
          "data": {
            "text/plain": [
              "array([[0, 1, 2, 3, 4, 5, 6, 7, 8]])"
            ]
          },
          "metadata": {
            "tags": []
          },
          "execution_count": 59
        }
      ]
    },
    {
      "cell_type": "markdown",
      "metadata": {
        "id": "xoImD_i8jpI_"
      },
      "source": [
        "# Basic Indexing and Slicing of Multidimensional Arrays"
      ]
    },
    {
      "cell_type": "code",
      "metadata": {
        "id": "7TtlOt5ajpI_",
        "outputId": "99b77abc-3ff9-48fc-f2f8-0c1cd99baf95"
      },
      "source": [
        "ar2d = np.array([[1, 2, 3], [4, 5, 6], [7, 8, 9]])\n",
        "ar2d"
      ],
      "execution_count": null,
      "outputs": [
        {
          "output_type": "execute_result",
          "data": {
            "text/plain": [
              "array([[1, 2, 3],\n",
              "       [4, 5, 6],\n",
              "       [7, 8, 9]])"
            ]
          },
          "metadata": {
            "tags": []
          },
          "execution_count": 60
        }
      ]
    },
    {
      "cell_type": "markdown",
      "metadata": {
        "id": "U_neSCl8jpI_"
      },
      "source": [
        "# Indexing:\n",
        "It is a process in which we target(access)indvidual or group of contagious values of ndarrays."
      ]
    },
    {
      "cell_type": "code",
      "metadata": {
        "id": "eQK52ndJjpJA",
        "outputId": "bac75357-e827-473e-efd4-1406f5776b0a"
      },
      "source": [
        "# accessing a complete row \n",
        "ar2d[2]"
      ],
      "execution_count": null,
      "outputs": [
        {
          "output_type": "execute_result",
          "data": {
            "text/plain": [
              "array([7, 8, 9])"
            ]
          },
          "metadata": {
            "tags": []
          },
          "execution_count": 61
        }
      ]
    },
    {
      "cell_type": "code",
      "metadata": {
        "id": "uCQ9odMVjpJA",
        "outputId": "05e1d7b6-a31b-4cce-a52e-d7eb57321e94"
      },
      "source": [
        "# accessing a complete columns\n",
        "ar2d[:,1]"
      ],
      "execution_count": null,
      "outputs": [
        {
          "output_type": "execute_result",
          "data": {
            "text/plain": [
              "array([2, 5, 8])"
            ]
          },
          "metadata": {
            "tags": []
          },
          "execution_count": 62
        }
      ]
    },
    {
      "cell_type": "code",
      "metadata": {
        "id": "fjwhA3JfjpJA",
        "outputId": "b741ee26-3271-435d-b6eb-e9aa25260afa"
      },
      "source": [
        "# accessing an element of a 2d array\n",
        "d2array = np.arange(25).reshape(5,5)\n",
        "d2array"
      ],
      "execution_count": null,
      "outputs": [
        {
          "output_type": "execute_result",
          "data": {
            "text/plain": [
              "array([[ 0,  1,  2,  3,  4],\n",
              "       [ 5,  6,  7,  8,  9],\n",
              "       [10, 11, 12, 13, 14],\n",
              "       [15, 16, 17, 18, 19],\n",
              "       [20, 21, 22, 23, 24]])"
            ]
          },
          "metadata": {
            "tags": []
          },
          "execution_count": 63
        }
      ]
    },
    {
      "cell_type": "markdown",
      "metadata": {
        "id": "_wmQSeNajpJA"
      },
      "source": [
        "![2daray.png](attachment:2daray.png)"
      ]
    },
    {
      "cell_type": "code",
      "metadata": {
        "id": "mUB2aAA8jpJA",
        "outputId": "ea4df464-c778-455f-f199-6f560a734ae8"
      },
      "source": [
        "#d2array[2,2]\n",
        "d2array[2][2]"
      ],
      "execution_count": null,
      "outputs": [
        {
          "output_type": "execute_result",
          "data": {
            "text/plain": [
              "12"
            ]
          },
          "metadata": {
            "tags": []
          },
          "execution_count": 65
        }
      ]
    },
    {
      "cell_type": "markdown",
      "metadata": {
        "id": "MB7sz9eHjpJA"
      },
      "source": [
        "![2daray2.png](attachment:2daray2.png)"
      ]
    },
    {
      "cell_type": "code",
      "metadata": {
        "id": "rynRbipkjpJB",
        "outputId": "228323e3-9873-4a10-cecf-402702dee2f3"
      },
      "source": [
        "d2array[0,3], d2array[1,2],d2array[2,4],d2array[4,1]"
      ],
      "execution_count": null,
      "outputs": [
        {
          "output_type": "execute_result",
          "data": {
            "text/plain": [
              "(3, 7, 14, 21)"
            ]
          },
          "metadata": {
            "tags": []
          },
          "execution_count": 67
        }
      ]
    },
    {
      "cell_type": "markdown",
      "metadata": {
        "id": "iTdMMFxAjpJB"
      },
      "source": [
        "# Structure  for indexing and slicing in a 2darray \n"
      ]
    },
    {
      "cell_type": "markdown",
      "metadata": {
        "id": "DITQrVhkjpJB"
      },
      "source": [
        "![2daray_struc.png](attachment:2daray_struc.png)"
      ]
    },
    {
      "cell_type": "markdown",
      "metadata": {
        "id": "LoS5T_dCjpJB"
      },
      "source": [
        "![2daray3.png](attachment:2daray3.png)"
      ]
    },
    {
      "cell_type": "code",
      "metadata": {
        "id": "3SCSbWF1jpJB",
        "outputId": "1b53130d-e3d7-4f89-bc74-8b357a9c3cbf"
      },
      "source": [
        "#Light Blue\n",
        "d2array[0:4,1:2]"
      ],
      "execution_count": null,
      "outputs": [
        {
          "output_type": "execute_result",
          "data": {
            "text/plain": [
              "array([[ 1],\n",
              "       [ 6],\n",
              "       [11],\n",
              "       [16]])"
            ]
          },
          "metadata": {
            "tags": []
          },
          "execution_count": 70
        }
      ]
    },
    {
      "cell_type": "code",
      "metadata": {
        "id": "rSPrcBwfjpJB",
        "outputId": "9cc194da-6fe7-418e-90c7-5705fa3f1cd8"
      },
      "source": [
        "#yellow\n",
        "d2array[1:5,0:3]"
      ],
      "execution_count": null,
      "outputs": [
        {
          "output_type": "execute_result",
          "data": {
            "text/plain": [
              "array([[ 5,  6,  7],\n",
              "       [10, 11, 12],\n",
              "       [15, 16, 17],\n",
              "       [20, 21, 22]])"
            ]
          },
          "metadata": {
            "tags": []
          },
          "execution_count": 71
        }
      ]
    },
    {
      "cell_type": "code",
      "metadata": {
        "id": "ZDmJbX3EjpJC",
        "outputId": "2b8c98c2-7c23-46f2-fb41-d049a0395ac9"
      },
      "source": [
        "#blue\n",
        "d2array[0:2,-2:]"
      ],
      "execution_count": null,
      "outputs": [
        {
          "output_type": "execute_result",
          "data": {
            "text/plain": [
              "array([[3, 4],\n",
              "       [8, 9]])"
            ]
          },
          "metadata": {
            "tags": []
          },
          "execution_count": 73
        }
      ]
    },
    {
      "cell_type": "code",
      "metadata": {
        "id": "F1Qzeia_jpJC"
      },
      "source": [
        "#green\n",
        "d2array[3:,2:]"
      ],
      "execution_count": null,
      "outputs": []
    },
    {
      "cell_type": "markdown",
      "metadata": {
        "id": "dsN2z8DhjpJC"
      },
      "source": [
        "![2dSlicing.png](attachment:2dSlicing.png)"
      ]
    },
    {
      "cell_type": "markdown",
      "metadata": {
        "id": "cQW2M2cgjpJC"
      },
      "source": [
        "# Question:\n",
        "What is the difference between indexing and slicing ??"
      ]
    },
    {
      "cell_type": "markdown",
      "metadata": {
        "id": "syMMmS-ajpJC"
      },
      "source": [
        "# Indexing:\n",
        "Targets the element of the array. The returned is the individual vlaue or group of values having their own data types.\n"
      ]
    },
    {
      "cell_type": "code",
      "metadata": {
        "id": "AyMXODOBjpJC",
        "outputId": "80c23e98-5f46-4f50-d3a5-d00eba2678a3"
      },
      "source": [
        "d2array"
      ],
      "execution_count": null,
      "outputs": [
        {
          "output_type": "execute_result",
          "data": {
            "text/plain": [
              "array([[ 0,  1,  2,  3,  4],\n",
              "       [ 5,  6,  7,  8,  9],\n",
              "       [10, 11, 12, 13, 14],\n",
              "       [15, 16, 17, 18, 19],\n",
              "       [20, 21, 22, 23, 24]])"
            ]
          },
          "metadata": {
            "tags": []
          },
          "execution_count": 75
        }
      ]
    },
    {
      "cell_type": "code",
      "metadata": {
        "id": "hWhL6unfjpJD",
        "outputId": "532b422c-02ee-4460-c60b-15d9507e58fe"
      },
      "source": [
        "d2array[4][2]   # returns and element of the array 22 that is int type "
      ],
      "execution_count": null,
      "outputs": [
        {
          "output_type": "execute_result",
          "data": {
            "text/plain": [
              "22"
            ]
          },
          "metadata": {
            "tags": []
          },
          "execution_count": 79
        }
      ]
    },
    {
      "cell_type": "markdown",
      "metadata": {
        "id": "Z02mMXjkjpJD"
      },
      "source": [
        "# Slicing:\n",
        "Gives the part of the array that have the same deimension(shape) as the full array has."
      ]
    },
    {
      "cell_type": "code",
      "metadata": {
        "id": "3AyZ3B4mjpJD",
        "outputId": "a4a6360b-719e-4ba2-d9ad-7f61cfd48dd5"
      },
      "source": [
        "d2array[1:4,2:3]   # notice the brackets around 22 shows its not an element but a 2d array with one element 22."
      ],
      "execution_count": null,
      "outputs": [
        {
          "output_type": "execute_result",
          "data": {
            "text/plain": [
              "array([[ 7],\n",
              "       [12],\n",
              "       [17]])"
            ]
          },
          "metadata": {
            "tags": []
          },
          "execution_count": 87
        }
      ]
    },
    {
      "cell_type": "markdown",
      "metadata": {
        "id": "nKAG1sq2jpJD"
      },
      "source": [
        "# Combining array"
      ]
    },
    {
      "cell_type": "markdown",
      "metadata": {
        "id": "l8fxnw3ajpJD"
      },
      "source": [
        "Arrays can be combined in various ways. This process in NumPy is referred to\n",
        "as stacking. Stacking can take various forms, including horizontal, vertical, and\n",
        "depth-wise stacking. To demonstrate this, we will use the following two arrays"
      ]
    },
    {
      "cell_type": "markdown",
      "metadata": {
        "id": "boN7FcbgjpJD"
      },
      "source": [
        "# Horizontal stacking"
      ]
    },
    {
      "cell_type": "markdown",
      "metadata": {
        "id": "ZZvPdvIpjpJE"
      },
      "source": [
        "Combines two arrays in a manner where the columns of the\n",
        "second array are placed to the right of those in the first array. The function actually\n",
        "stacks the two items provided in a two-element tuple. The result is a new array with\n",
        "data copied from the two that are specified:"
      ]
    },
    {
      "cell_type": "code",
      "metadata": {
        "id": "gb8iXYHojpJE"
      },
      "source": [
        "arr1 = np.arange(16).reshape(8,2)\n",
        "arr1"
      ],
      "execution_count": null,
      "outputs": []
    },
    {
      "cell_type": "code",
      "metadata": {
        "id": "CYkFSfWPjpJE"
      },
      "source": [
        "arr2 = np.arange(16,56).reshape(8,5)\n",
        "arr2"
      ],
      "execution_count": null,
      "outputs": []
    },
    {
      "cell_type": "code",
      "metadata": {
        "id": "FyZHwInnjpJE"
      },
      "source": [
        "np.hstack((arr1, arr2))"
      ],
      "execution_count": null,
      "outputs": []
    },
    {
      "cell_type": "markdown",
      "metadata": {
        "id": "OgnmWUACjpJE"
      },
      "source": [
        "# Vertical Stacking\n",
        "Vertical stacking returns a new array with the contents of the second array as\n",
        "appended rows of the first array."
      ]
    },
    {
      "cell_type": "code",
      "metadata": {
        "id": "8nYjSSx5jpJE"
      },
      "source": [
        "arr3 = np.arange(20).reshape(2,10)\n",
        "arr3"
      ],
      "execution_count": null,
      "outputs": []
    },
    {
      "cell_type": "code",
      "metadata": {
        "id": "R7DzGclNjpJE"
      },
      "source": [
        "arr4 = np.arange(20,60).reshape(4,10)\n",
        "arr4"
      ],
      "execution_count": null,
      "outputs": []
    },
    {
      "cell_type": "code",
      "metadata": {
        "id": "-AydfMQyjpJF"
      },
      "source": [
        "np.vstack((arr4,arr3))"
      ],
      "execution_count": null,
      "outputs": []
    },
    {
      "cell_type": "markdown",
      "metadata": {
        "id": "NMQPUJQ2jpJF"
      },
      "source": [
        "# Columns stacking "
      ]
    },
    {
      "cell_type": "markdown",
      "metadata": {
        "id": "-ejuDPtBjpJF"
      },
      "source": [
        "# Row Stacking"
      ]
    },
    {
      "cell_type": "markdown",
      "metadata": {
        "id": "TZ4cEqYJjpJF"
      },
      "source": [
        "# Depth stacking\n",
        "takes a list of arrays and arranges them in order along an additional\n",
        "axis referred to as the depth:"
      ]
    },
    {
      "cell_type": "code",
      "metadata": {
        "id": "bjV8H8WujpJF"
      },
      "source": [
        "arr5 = np.arange(9).reshape(3,3)\n",
        "arr5"
      ],
      "execution_count": null,
      "outputs": []
    },
    {
      "cell_type": "code",
      "metadata": {
        "id": "zp4TvCIajpJF"
      },
      "source": [
        "arr6 = np.arange(9,18).reshape(3,3)\n",
        "arr6"
      ],
      "execution_count": null,
      "outputs": []
    },
    {
      "cell_type": "code",
      "metadata": {
        "id": "2zb_CybLjpJF"
      },
      "source": [
        "np.dstack((arr5,arr6))"
      ],
      "execution_count": null,
      "outputs": []
    },
    {
      "cell_type": "markdown",
      "metadata": {
        "id": "mljbLBq3jpJG"
      },
      "source": [
        "# Useful numerical methods of NumPy arrays"
      ]
    },
    {
      "cell_type": "code",
      "metadata": {
        "id": "hCrZlscqjpJG"
      },
      "source": [
        "# demonstrate some of the properties of NumPy arrays\n",
        "m = np.arange(10, 19).reshape(3, 3)\n",
        "print (m)\n",
        "print (\"{0} min of the entire matrix\".format(m.min()))\n",
        "print (\"{0} max of entire matrix\".format(m.max()))\n",
        "print (\"{0} position of the min value\".format(m.argmin()))\n",
        "print (\"{0} position of the max value\".format(m.argmax()))\n",
        "print (\"{0} mins down each column\".format(m.min(axis = 0)))\n",
        "print (\"{0} mins across each row\".format(m.min(axis = 1)))\n",
        "print (\"{0} maxs down each column\".format(m.max(axis = 0)))"
      ],
      "execution_count": null,
      "outputs": []
    },
    {
      "cell_type": "markdown",
      "metadata": {
        "id": "agt-FHrcjpJG"
      },
      "source": [
        "# Some statiscal function "
      ]
    },
    {
      "cell_type": "code",
      "metadata": {
        "id": "bMtUPrfljpJG"
      },
      "source": [
        "my_array = np.arange(36).reshape(6,6)\n",
        "my_array"
      ],
      "execution_count": null,
      "outputs": []
    },
    {
      "cell_type": "code",
      "metadata": {
        "id": "C0MkMgYejpJG"
      },
      "source": [
        "print(f\"The mean of the array is {my_array.mean()}, \\nThe standard devition is {my_array.std()},\\nand the variation is {my_array.var()}\")"
      ],
      "execution_count": null,
      "outputs": []
    },
    {
      "cell_type": "code",
      "metadata": {
        "id": "VFyg1iaIjpJG"
      },
      "source": [
        "print(f\"The sum of array is {my_array.sum()}, \\nand the product is {my_array.prod()} \")"
      ],
      "execution_count": null,
      "outputs": []
    },
    {
      "cell_type": "code",
      "metadata": {
        "id": "btqjhyk7jpJG"
      },
      "source": [
        "print(f\"The sum of array is {my_array.cumsum()}, \\nand the product is {my_array.cumprod()} \")"
      ],
      "execution_count": null,
      "outputs": []
    },
    {
      "cell_type": "markdown",
      "metadata": {
        "id": "70IGsiTVjpJH"
      },
      "source": [
        "# Applying Logical Operators on arrays"
      ]
    },
    {
      "cell_type": "code",
      "metadata": {
        "id": "FB1IOC5JjpJH"
      },
      "source": [
        "a = np.arange(10)\n",
        "a"
      ],
      "execution_count": null,
      "outputs": []
    },
    {
      "cell_type": "code",
      "metadata": {
        "id": "ZHYTX1XujpJH"
      },
      "source": [
        "# .any() returns true if any of the values us less than 5 \n",
        "# and .all() return true if and only if all the values are less than 5\n",
        "\n",
        "(a < 5).any()"
      ],
      "execution_count": null,
      "outputs": []
    },
    {
      "cell_type": "code",
      "metadata": {
        "id": "zGe7u4sojpJH"
      },
      "source": [
        "(a < 5). all()"
      ],
      "execution_count": null,
      "outputs": []
    },
    {
      "cell_type": "code",
      "metadata": {
        "id": "yWf7jEaPjpJH"
      },
      "source": [
        "names = np.array(['Bob', 'Joe', 'Will', 'Bob', 'Will', 'Joe', 'Joe'])\n",
        "names"
      ],
      "execution_count": null,
      "outputs": []
    },
    {
      "cell_type": "code",
      "metadata": {
        "id": "fkWIN1E_jpJH"
      },
      "source": [
        "data =np.array(np.random.randn(7, 4)*10,dtype=np.int)\n",
        "data"
      ],
      "execution_count": null,
      "outputs": []
    },
    {
      "cell_type": "markdown",
      "metadata": {
        "id": "m728X_VijpJH"
      },
      "source": [
        "Suppose each name corresponds to a row in the data array and we wanted to select\n",
        "all the rows with corresponding name 'Bob'.\n",
        "\n",
        "Like arithmetic operations, comparisons (such as ==) with arrays are also vectorized.\n",
        "\n",
        "Thus, comparing names with the\n",
        "string 'Bob' yields a boolean array:"
      ]
    },
    {
      "cell_type": "markdown",
      "metadata": {
        "id": "op6Ql4K9jpJI"
      },
      "source": [
        "![booleanSelection.png](attachment:booleanSelection.png)"
      ]
    },
    {
      "cell_type": "markdown",
      "metadata": {
        "id": "tLmlbB8ejpJI"
      },
      "source": [
        "First consdier this, if we wnat to select (fancy selection) different rows from array we can pass a list of row indices.\n",
        "\n",
        "But a big but, if we want to select different rows based on some criteria like here we want all rows corresponding to name 'Bob' \n",
        "\n",
        "we will do booean indexing"
      ]
    },
    {
      "cell_type": "code",
      "metadata": {
        "id": "jKOEyQFSjpJI"
      },
      "source": [
        "# fancy indexing \n",
        "data[[0,6]]"
      ],
      "execution_count": null,
      "outputs": []
    },
    {
      "cell_type": "code",
      "metadata": {
        "id": "EnMcwVZPjpJI"
      },
      "source": [
        "#boolean indexing now\n",
        "\n",
        "names == 'Bob' # vectorize comparision,will return true where name is bob in names array."
      ],
      "execution_count": null,
      "outputs": []
    },
    {
      "cell_type": "markdown",
      "metadata": {
        "id": "bnqv18rJjpJI"
      },
      "source": [
        "this result can be passed in to data array to select true rows based on true and false (booleans)"
      ]
    },
    {
      "cell_type": "code",
      "metadata": {
        "id": "BBJjSrqOjpJJ"
      },
      "source": [
        "data[[ True, False, False,  True, False, False, False]] # this way"
      ],
      "execution_count": null,
      "outputs": []
    },
    {
      "cell_type": "code",
      "metadata": {
        "id": "g3tcDfQejpJJ"
      },
      "source": [
        "# a better ways is :\n",
        "data[names=='Bob']  # definitely inside data brackets boolean array will be generated by names=='Bob'"
      ],
      "execution_count": null,
      "outputs": []
    },
    {
      "cell_type": "code",
      "metadata": {
        "id": "Rg_2OFgjjpJJ"
      },
      "source": [
        "data[names!='Bob']"
      ],
      "execution_count": null,
      "outputs": []
    },
    {
      "cell_type": "markdown",
      "metadata": {
        "id": "_FY_wZWejpJJ"
      },
      "source": [
        "Selecting two of the three names to combine multiple boolean conditions, use\n",
        "boolean arithmetic operators like & (and) and | (or):"
      ]
    },
    {
      "cell_type": "code",
      "metadata": {
        "id": "G9yxobBCjpJJ"
      },
      "source": [
        "mask = (names == 'Bob') | (names == 'Will') \n",
        "\n",
        "\n",
        "#this is multiple names condition genearting a sort of mask to provide to data array\n",
        "\n",
        "####The Python keywords and and or do not work with boolean arrays.##############\n",
        "\n",
        "#####################Use & (and) and | (or) instead.#############################"
      ],
      "execution_count": null,
      "outputs": []
    },
    {
      "cell_type": "code",
      "metadata": {
        "id": "ITPGVGLBjpJJ"
      },
      "source": [
        "data[mask]"
      ],
      "execution_count": null,
      "outputs": []
    },
    {
      "cell_type": "code",
      "metadata": {
        "id": "r4KzTwA4jpJJ"
      },
      "source": [
        "data[data < 0] = 0  # another way! It replaces all the values on true indexings with 0"
      ],
      "execution_count": null,
      "outputs": []
    },
    {
      "cell_type": "code",
      "metadata": {
        "id": "3r3gGV6LjpJK"
      },
      "source": [
        "data"
      ],
      "execution_count": null,
      "outputs": []
    },
    {
      "cell_type": "markdown",
      "metadata": {
        "id": "DjfFYR8IjpJK"
      },
      "source": [
        "# Fancy Indexing"
      ]
    },
    {
      "cell_type": "code",
      "metadata": {
        "id": "pdCyNZZPjpJK"
      },
      "source": [
        "data[[2,2]]"
      ],
      "execution_count": null,
      "outputs": []
    },
    {
      "cell_type": "code",
      "metadata": {
        "id": "KlemPisCjpJK"
      },
      "source": [
        "data[[-1,-2]]"
      ],
      "execution_count": null,
      "outputs": []
    },
    {
      "cell_type": "markdown",
      "metadata": {
        "id": "yg7jjouwjpJK"
      },
      "source": [
        "# Transposing Arrays and Swapping Axes"
      ]
    },
    {
      "cell_type": "code",
      "metadata": {
        "id": "XW8yqr2njpJK"
      },
      "source": [
        "data.T"
      ],
      "execution_count": null,
      "outputs": []
    },
    {
      "cell_type": "code",
      "metadata": {
        "id": "BvsodXw5jpJK"
      },
      "source": [
        "np.transpose(data)"
      ],
      "execution_count": null,
      "outputs": []
    },
    {
      "cell_type": "markdown",
      "metadata": {
        "id": "s0q3B529jpJL"
      },
      "source": [
        "# Universal Functions: Fast Element-Wise Array Functions"
      ]
    },
    {
      "cell_type": "code",
      "metadata": {
        "id": "ndHkXMy7jpJL"
      },
      "source": [
        "arr = np.arange(10)\n",
        "arr"
      ],
      "execution_count": null,
      "outputs": []
    },
    {
      "cell_type": "code",
      "metadata": {
        "id": "51iX1tw_jpJL"
      },
      "source": [
        "np.sqrt(arr)"
      ],
      "execution_count": null,
      "outputs": []
    },
    {
      "cell_type": "code",
      "metadata": {
        "id": "tLs3b5uSjpJL"
      },
      "source": [
        "np.exp(arr)"
      ],
      "execution_count": null,
      "outputs": []
    },
    {
      "cell_type": "code",
      "metadata": {
        "id": "96zxSYMcjpJL"
      },
      "source": [
        "x = np.random.randn(8)\n",
        "y = np.random.randn(8)"
      ],
      "execution_count": null,
      "outputs": []
    },
    {
      "cell_type": "code",
      "metadata": {
        "id": "ujL2Y5H_jpJL"
      },
      "source": [
        "np.maximum(x, y) #compares both arrays element wise and max is included in result"
      ],
      "execution_count": null,
      "outputs": []
    },
    {
      "cell_type": "code",
      "metadata": {
        "id": "5TJqJLwVjpJL"
      },
      "source": [
        "arr = np.random.randn(7) * 5\n",
        "arr"
      ],
      "execution_count": null,
      "outputs": []
    },
    {
      "cell_type": "code",
      "metadata": {
        "id": "QHSCl5nOjpJM"
      },
      "source": [
        "remainder, whole_part = np.modf(arr) #modf separate whole n decimal parts and return them "
      ],
      "execution_count": null,
      "outputs": []
    },
    {
      "cell_type": "code",
      "metadata": {
        "id": "vAvG2m4ejpJM"
      },
      "source": [
        "remainder"
      ],
      "execution_count": null,
      "outputs": []
    },
    {
      "cell_type": "code",
      "metadata": {
        "id": "U772PsAPjpJM"
      },
      "source": [
        "whole_part"
      ],
      "execution_count": null,
      "outputs": []
    },
    {
      "cell_type": "markdown",
      "metadata": {
        "id": "6GCjuxXRjpJM"
      },
      "source": [
        "# List of unary funcs (Ufuncs)\n",
        "take single array input"
      ]
    },
    {
      "cell_type": "markdown",
      "metadata": {
        "id": "3lncmtFxjpJM"
      },
      "source": [
        "![unaryfuncs.png](attachment:unaryfuncs.png)"
      ]
    },
    {
      "cell_type": "markdown",
      "metadata": {
        "id": "mXdp9gjujpJM"
      },
      "source": [
        "# List of binary funcs:\n",
        "    take to arrays input"
      ]
    },
    {
      "cell_type": "markdown",
      "metadata": {
        "id": "DLefcSrJjpJM"
      },
      "source": [
        "![Binaryfuncs.png](attachment:Binaryfuncs.png)"
      ]
    },
    {
      "cell_type": "markdown",
      "metadata": {
        "id": "x2EBz8M8jpJN"
      },
      "source": [
        "# Linear Algebra"
      ]
    },
    {
      "cell_type": "markdown",
      "metadata": {
        "id": "eHIvGByYjpJN"
      },
      "source": [
        "Like matrix multiplication, decompositions, determinants, and other square matrix math, is an important part of any array library. Unlike some languages like MATLAB, multiplying two two-dimensional arrays with * sign is an element-wise\n",
        "product instead of a matrix dot product. Thus, there is a function dot, both an array method and a function in the numpy namespace, for matrix multiplication."
      ]
    },
    {
      "cell_type": "code",
      "metadata": {
        "id": "apcMmN_SjpJN"
      },
      "source": [
        "x = np.array([[1., 2., 3.], [4., 5., 6.]])\n",
        "x"
      ],
      "execution_count": null,
      "outputs": []
    },
    {
      "cell_type": "code",
      "metadata": {
        "id": "M2GNfgJijpJN"
      },
      "source": [
        "y = np.array([[6., 23.], [-1, 7], [8, 9]])\n",
        "y"
      ],
      "execution_count": null,
      "outputs": []
    },
    {
      "cell_type": "markdown",
      "metadata": {
        "id": "q8wIlKV8jpJN"
      },
      "source": [
        "# Note:\n",
        "    to multiply two matices (element wise multiplication or mirror multiplication) both matrix must have same shape. "
      ]
    },
    {
      "cell_type": "code",
      "metadata": {
        "id": "NS0TFt5RjpJN"
      },
      "source": [
        "x*y"
      ],
      "execution_count": null,
      "outputs": []
    },
    {
      "cell_type": "markdown",
      "metadata": {
        "id": "E3Exp8u6jpJN"
      },
      "source": [
        "In linear algebra rows of first matrix is multiplied by the columns of second matrix and this is only possilbe\n",
        "when columns of first matrix are equal to the rows of second matrix"
      ]
    },
    {
      "cell_type": "markdown",
      "metadata": {
        "id": "MCpApuMFjpJO"
      },
      "source": [
        "![matrixMult.png](attachment:matrixMult.png)"
      ]
    },
    {
      "cell_type": "code",
      "metadata": {
        "id": "WcGiBYE0jpJO"
      },
      "source": [
        "# order of x\n",
        "x.shape"
      ],
      "execution_count": null,
      "outputs": []
    },
    {
      "cell_type": "code",
      "metadata": {
        "id": "P8hZrrS5jpJO"
      },
      "source": [
        "# order of y\n",
        "y.shape"
      ],
      "execution_count": null,
      "outputs": []
    },
    {
      "cell_type": "code",
      "metadata": {
        "id": "MAyUSpLijpJO"
      },
      "source": [
        "# col of x ==  rows of y \n",
        "# hence matrix multiplication can be done"
      ],
      "execution_count": null,
      "outputs": []
    },
    {
      "cell_type": "code",
      "metadata": {
        "id": "Kr0nrewdjpJO"
      },
      "source": [
        "np.dot(x,y)"
      ],
      "execution_count": null,
      "outputs": []
    },
    {
      "cell_type": "code",
      "metadata": {
        "id": "OGQLPNVTjpJQ"
      },
      "source": [
        "np.dot(y,x)  # y.y also fulfilling the rule"
      ],
      "execution_count": null,
      "outputs": []
    },
    {
      "cell_type": "markdown",
      "metadata": {
        "id": "w2SmNcy0jpJQ"
      },
      "source": [
        "# Note:\n",
        "it is not neccesary if a.b is possible so b.a will be. \n",
        "\n",
        "np.dot(a,b)  \n",
        "\n",
        "a.dot(b)\n",
        "\n",
        "\n",
        "a@b\n",
        "\n",
        "All are same"
      ]
    },
    {
      "cell_type": "markdown",
      "metadata": {
        "id": "9sg6_ROajpJR"
      },
      "source": [
        "# numpy.linalg"
      ]
    },
    {
      "cell_type": "markdown",
      "metadata": {
        "id": "UFOuHzJejpJR"
      },
      "source": [
        "has a standard set of matrix decompositions and things like inverse\n",
        "and determinant. These are implemented under the hood via the same industrystandard linear algebra libraries used in other languages like MATLAB and R, such as\n",
        "BLAS, LAPACK, or possibly (depending on your NumPy build) the proprietary Intel\n",
        "MKL (Math Kernel Library):"
      ]
    },
    {
      "cell_type": "code",
      "metadata": {
        "id": "uwEMZUjdjpJR"
      },
      "source": [
        "from numpy.linalg import inv, qr"
      ],
      "execution_count": null,
      "outputs": []
    },
    {
      "cell_type": "code",
      "metadata": {
        "id": "EjOA-DuEjpJR"
      },
      "source": [
        "X = np.array((np.random.randn(5, 5)*10),dtype='int32')\n",
        "X"
      ],
      "execution_count": null,
      "outputs": []
    },
    {
      "cell_type": "code",
      "metadata": {
        "id": "t9CGvXTPjpJR"
      },
      "source": [
        "inv(X)"
      ],
      "execution_count": null,
      "outputs": []
    },
    {
      "cell_type": "markdown",
      "metadata": {
        "id": "fapRLW1-jpJR"
      },
      "source": [
        "The expression X.T.dot(X) computes the dot product of X with its transpose X.T."
      ]
    },
    {
      "cell_type": "code",
      "metadata": {
        "id": "BipaWkLvjpJR"
      },
      "source": [
        "mat = X.T.dot(X)\n",
        "mat"
      ],
      "execution_count": null,
      "outputs": []
    },
    {
      "cell_type": "markdown",
      "metadata": {
        "id": "9N_IQJH7jpJS"
      },
      "source": [
        "![numpyLinAlg.png](attachment:numpyLinAlg.png)"
      ]
    },
    {
      "cell_type": "code",
      "metadata": {
        "id": "Rptayae_jpJS"
      },
      "source": [
        ""
      ],
      "execution_count": null,
      "outputs": []
    }
  ]
}