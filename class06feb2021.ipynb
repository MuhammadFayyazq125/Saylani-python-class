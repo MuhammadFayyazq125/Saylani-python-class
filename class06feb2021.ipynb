{
  "nbformat": 4,
  "nbformat_minor": 0,
  "metadata": {
    "colab": {
      "name": "class06feb2021.ipynb",
      "provenance": [],
      "authorship_tag": "ABX9TyOjPZWKoXRogzthtfzUK/PE",
      "include_colab_link": true
    },
    "kernelspec": {
      "name": "python3",
      "display_name": "Python 3"
    }
  },
  "cells": [
    {
      "cell_type": "markdown",
      "metadata": {
        "id": "view-in-github",
        "colab_type": "text"
      },
      "source": [
        "<a href=\"https://colab.research.google.com/github/MuhammadFayyazq125/Saylani-python-class/blob/main/class06feb2021.ipynb\" target=\"_parent\"><img src=\"https://colab.research.google.com/assets/colab-badge.svg\" alt=\"Open In Colab\"/></a>"
      ]
    },
    {
      "cell_type": "code",
      "metadata": {
        "id": "tKIit_I-mZ0y"
      },
      "source": [
        "class Battery():\r\n",
        "  def __init__(self,amp ,plates , manuf):\r\n",
        "    self.amp = amp\r\n",
        "    self.plates = plates\r\n",
        "    self.manuf = manuf\r\n",
        "  def get_amp(self):\r\n",
        "    return self.amp\r\n",
        "  def get_plates(self):\r\n",
        "    return self.plates\r\n",
        "\r\n"
      ],
      "execution_count": null,
      "outputs": []
    },
    {
      "cell_type": "code",
      "metadata": {
        "id": "PpJfa92ToZUF"
      },
      "source": [
        "class electricCar():\r\n",
        "  def __init__(self, make , model , year , speed):\r\n",
        "    super().__init__(make , model , year)\r\n",
        "    self.speed = speed \r\n",
        "    self.battery = Battery(\"250amp\" , 30 , 'Osaka')\r\n",
        "  def fill_gas_tank(self):\r\n",
        "    print(\"Electric car has no need of gas tank\")\r\n",
        "  def describe_car(self):\r\n",
        "    print(f\"{self.mode}\")"
      ],
      "execution_count": 3,
      "outputs": []
    },
    {
      "cell_type": "code",
      "metadata": {
        "id": "HkCB0fF87gPY"
      },
      "source": [
        ""
      ],
      "execution_count": null,
      "outputs": []
    }
  ]
}