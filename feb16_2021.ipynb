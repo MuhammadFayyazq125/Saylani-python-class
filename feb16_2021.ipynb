{
  "nbformat": 4,
  "nbformat_minor": 0,
  "metadata": {
    "colab": {
      "name": "feb16_2021.ipynb",
      "provenance": [],
      "authorship_tag": "ABX9TyO9GgfNCXSvCNiOy0fcGUAP",
      "include_colab_link": true
    },
    "kernelspec": {
      "name": "python3",
      "display_name": "Python 3"
    }
  },
  "cells": [
    {
      "cell_type": "markdown",
      "metadata": {
        "id": "view-in-github",
        "colab_type": "text"
      },
      "source": [
        "<a href=\"https://colab.research.google.com/github/MuhammadFayyazq125/Saylani-python-class/blob/main/feb16_2021.ipynb\" target=\"_parent\"><img src=\"https://colab.research.google.com/assets/colab-badge.svg\" alt=\"Open In Colab\"/></a>"
      ]
    },
    {
      "cell_type": "markdown",
      "metadata": {
        "id": "BZifDELTLR8f"
      },
      "source": [
        "**Programmer means to use the mind for achieving goals**\r\n",
        "**Last class on Django Installation**"
      ]
    },
    {
      "cell_type": "markdown",
      "metadata": {
        "id": "gKDQIxyXO3Xn"
      },
      "source": [
        "Central Tendancy"
      ]
    },
    {
      "cell_type": "markdown",
      "metadata": {
        "id": "imo5CkJOPrAO"
      },
      "source": [
        "Mean value se jiska distance ziada ho use hm outlier kahte hai"
      ]
    },
    {
      "cell_type": "markdown",
      "metadata": {
        "id": "89GED1QUQN7t"
      },
      "source": [
        "outlier ki percentage ziada hojae means barh jae to wo phir common hojaega wo outlier nh kah laega"
      ]
    },
    {
      "cell_type": "markdown",
      "metadata": {
        "id": "kaCYEoJHQyVN"
      },
      "source": [
        "mode jo ziada repeated values hai wo denote krta hai\r\n",
        "- median means agr ak group me 25 log hai to wo sort karega phir count karega then mid value find kar k btadega\r\n",
        "- Variance = mean se kitna door hai +0ve or -Ve"
      ]
    },
    {
      "cell_type": "markdown",
      "metadata": {
        "id": "5dXGdSl4R-pE"
      },
      "source": [
        "today's topic is \r\n",
        "- Bivariant analysis\r\n",
        "- Covariance \r\n",
        "- Regression\r\n",
        "covariance = ak variable dusre variable se kitna different hai \r\n",
        "cov(x,y) = (xi - x)\r\n",
        "- correlation \r\n",
        "corelation ka mtlb hai k agr ak variable me changing krte hai to dusra variable me b change ajaega\r\n",
        "- example "
      ]
    },
    {
      "cell_type": "code",
      "metadata": {
        "id": "o_uuO4P0KS7X"
      },
      "source": [
        ""
      ],
      "execution_count": null,
      "outputs": []
    }
  ]
}