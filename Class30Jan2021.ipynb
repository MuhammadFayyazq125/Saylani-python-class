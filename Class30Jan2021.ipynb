{
  "nbformat": 4,
  "nbformat_minor": 0,
  "metadata": {
    "colab": {
      "name": "Class30Jan2021.ipynb",
      "provenance": [],
      "collapsed_sections": [],
      "authorship_tag": "ABX9TyOxiGSVILX+NuHkowPDDOJl",
      "include_colab_link": true
    },
    "kernelspec": {
      "name": "python3",
      "display_name": "Python 3"
    }
  },
  "cells": [
    {
      "cell_type": "markdown",
      "metadata": {
        "id": "view-in-github",
        "colab_type": "text"
      },
      "source": [
        "<a href=\"https://colab.research.google.com/github/MuhammadFayyazq125/Saylani-python-class/blob/main/Class30Jan2021.ipynb\" target=\"_parent\"><img src=\"https://colab.research.google.com/assets/colab-badge.svg\" alt=\"Open In Colab\"/></a>"
      ]
    },
    {
      "cell_type": "markdown",
      "metadata": {
        "id": "zcx5r2P3mSvp"
      },
      "source": [
        "Class"
      ]
    },
    {
      "cell_type": "code",
      "metadata": {
        "id": "APJ-lCN9lirW"
      },
      "source": [
        "#today we will learn about how to create class\r\n",
        "# there will be characteristics and behabvior of object \r\n",
        "# class can conatain sub classes\r\n"
      ],
      "execution_count": 2,
      "outputs": []
    },
    {
      "cell_type": "code",
      "metadata": {
        "id": "Mzb4UhRjmnap"
      },
      "source": [
        "class Dog():\r\n",
        "  #characteristics/Attributes/Properties >>>>> Variables\r\n",
        "  #what if we need to take all these properties from users for that we create constructors called initializer\r\n",
        "  def __init__(self, name , age , breed , color):\r\n",
        "    self.name = name\r\n",
        "    self.age = age\r\n",
        "    self.breed = breed\r\n",
        "    self.color = color\r\n",
        "    print(\"Dog Create hogya\")\r\n",
        "  #Behaviors/Actions >>>>> methodss / functions\r\n",
        "    def bark():\r\n",
        "      pass\r\n",
        "    def walk():\r\n",
        "      pass\r\n",
        "    def rollover():\r\n",
        "      pass\r\n",
        "    def run():\r\n",
        "      pass\r\n",
        "    def bite():\r\n",
        "      pass"
      ],
      "execution_count": 39,
      "outputs": []
    },
    {
      "cell_type": "code",
      "metadata": {
        "colab": {
          "base_uri": "https://localhost:8080/"
        },
        "id": "JSYv30VPrzcM",
        "outputId": "1154aeb9-250e-4a5c-ecaa-ba8938b6dda2"
      },
      "source": [
        "dog1 = Dog('Tommy', 5 , 'German', 'brwon')"
      ],
      "execution_count": 40,
      "outputs": [
        {
          "output_type": "stream",
          "text": [
            "Dog Create hogya\n"
          ],
          "name": "stdout"
        }
      ]
    },
    {
      "cell_type": "code",
      "metadata": {
        "colab": {
          "base_uri": "https://localhost:8080/",
          "height": 35
        },
        "id": "nGAWDahrsDA1",
        "outputId": "b70fc121-32b6-420d-df09-8224e31c4bc4"
      },
      "source": [
        "dog1.name"
      ],
      "execution_count": 41,
      "outputs": [
        {
          "output_type": "execute_result",
          "data": {
            "application/vnd.google.colaboratory.intrinsic+json": {
              "type": "string"
            },
            "text/plain": [
              "'Tommy'"
            ]
          },
          "metadata": {
            "tags": []
          },
          "execution_count": 41
        }
      ]
    },
    {
      "cell_type": "code",
      "metadata": {
        "colab": {
          "base_uri": "https://localhost:8080/"
        },
        "id": "2OEPYR7LsEks",
        "outputId": "164fd523-200a-48d7-eff1-3a2fee1b63fd"
      },
      "source": [
        "dog1.age"
      ],
      "execution_count": 42,
      "outputs": [
        {
          "output_type": "execute_result",
          "data": {
            "text/plain": [
              "5"
            ]
          },
          "metadata": {
            "tags": []
          },
          "execution_count": 42
        }
      ]
    },
    {
      "cell_type": "code",
      "metadata": {
        "colab": {
          "base_uri": "https://localhost:8080/",
          "height": 35
        },
        "id": "ma7gFfpAsIBN",
        "outputId": "a36f1b53-a371-41a2-d7b0-9531007378dd"
      },
      "source": [
        "dog1.breed"
      ],
      "execution_count": 43,
      "outputs": [
        {
          "output_type": "execute_result",
          "data": {
            "application/vnd.google.colaboratory.intrinsic+json": {
              "type": "string"
            },
            "text/plain": [
              "'German'"
            ]
          },
          "metadata": {
            "tags": []
          },
          "execution_count": 43
        }
      ]
    },
    {
      "cell_type": "code",
      "metadata": {
        "colab": {
          "base_uri": "https://localhost:8080/",
          "height": 35
        },
        "id": "g5iU6IM_tSmA",
        "outputId": "6029a33f-9ddd-4f1f-e796-33d4edf2574d"
      },
      "source": [
        "dog1.color"
      ],
      "execution_count": 44,
      "outputs": [
        {
          "output_type": "execute_result",
          "data": {
            "application/vnd.google.colaboratory.intrinsic+json": {
              "type": "string"
            },
            "text/plain": [
              "'brwon'"
            ]
          },
          "metadata": {
            "tags": []
          },
          "execution_count": 44
        }
      ]
    },
    {
      "cell_type": "code",
      "metadata": {
        "colab": {
          "base_uri": "https://localhost:8080/"
        },
        "id": "wDn8jxeptUKn",
        "outputId": "a727cb94-5562-45c9-b610-969f3de98dd1"
      },
      "source": [
        "print(dog1)"
      ],
      "execution_count": 45,
      "outputs": [
        {
          "output_type": "stream",
          "text": [
            "<__main__.Dog object at 0x7f57d99c4828>\n"
          ],
          "name": "stdout"
        }
      ]
    },
    {
      "cell_type": "code",
      "metadata": {
        "id": "z5iON_lbtetF"
      },
      "source": [
        "class Human():\r\n",
        "  def __init__(self , name , age , address , bloog_group):\r\n",
        "    self.name = name \r\n",
        "    self.age = age \r\n",
        "    self.address = address \r\n",
        "    self.bloog_group = bloog_group \r\n",
        "    print(\"Human create hogaya\")\r\n",
        "  def walk(self):\r\n",
        "    print(f\"{self.name} is walking towards his success\")\r\n",
        "    pass\r\n",
        "  def speak():\r\n",
        "    pass\r\n",
        "  def run():\r\n",
        "    pass\r\n",
        "  def study():\r\n",
        "    pass\r\n",
        "\r\n",
        "    "
      ],
      "execution_count": 46,
      "outputs": []
    },
    {
      "cell_type": "code",
      "metadata": {
        "colab": {
          "base_uri": "https://localhost:8080/"
        },
        "id": "ocpTrMJH1vvN",
        "outputId": "c380d15a-5084-41bc-dd2b-43707531e7d4"
      },
      "source": [
        "humain1 =Human('Muhammad Fayyaz ', 23 , 'house# b-77 sector 8 orangi town karachi' , 'AB+' )"
      ],
      "execution_count": 47,
      "outputs": [
        {
          "output_type": "stream",
          "text": [
            "Human create hogaya\n"
          ],
          "name": "stdout"
        }
      ]
    },
    {
      "cell_type": "code",
      "metadata": {
        "colab": {
          "base_uri": "https://localhost:8080/",
          "height": 35
        },
        "id": "y3azQ5_e2F0v",
        "outputId": "5e013a89-1549-4826-c7e5-6686f368aaf9"
      },
      "source": [
        "humain1.name"
      ],
      "execution_count": 48,
      "outputs": [
        {
          "output_type": "execute_result",
          "data": {
            "application/vnd.google.colaboratory.intrinsic+json": {
              "type": "string"
            },
            "text/plain": [
              "'Muhammad Fayyaz '"
            ]
          },
          "metadata": {
            "tags": []
          },
          "execution_count": 48
        }
      ]
    },
    {
      "cell_type": "code",
      "metadata": {
        "colab": {
          "base_uri": "https://localhost:8080/"
        },
        "id": "FGeWrijS2Iwf",
        "outputId": "dbcafa38-cf4f-486f-e9a9-edb715e60ee3"
      },
      "source": [
        "humain1.age"
      ],
      "execution_count": 49,
      "outputs": [
        {
          "output_type": "execute_result",
          "data": {
            "text/plain": [
              "23"
            ]
          },
          "metadata": {
            "tags": []
          },
          "execution_count": 49
        }
      ]
    },
    {
      "cell_type": "code",
      "metadata": {
        "colab": {
          "base_uri": "https://localhost:8080/",
          "height": 35
        },
        "id": "WG88TCGh2-Gv",
        "outputId": "7a2305cb-7f96-4a41-eb57-541504480992"
      },
      "source": [
        "humain1.address"
      ],
      "execution_count": 50,
      "outputs": [
        {
          "output_type": "execute_result",
          "data": {
            "application/vnd.google.colaboratory.intrinsic+json": {
              "type": "string"
            },
            "text/plain": [
              "'house# b-77 sector 8 orangi town karachi'"
            ]
          },
          "metadata": {
            "tags": []
          },
          "execution_count": 50
        }
      ]
    },
    {
      "cell_type": "code",
      "metadata": {
        "colab": {
          "base_uri": "https://localhost:8080/",
          "height": 35
        },
        "id": "CxiuQ6uR3A13",
        "outputId": "a57e3ed9-871f-41cc-c207-63c030c3602a"
      },
      "source": [
        "humain1.bloog_group"
      ],
      "execution_count": 51,
      "outputs": [
        {
          "output_type": "execute_result",
          "data": {
            "application/vnd.google.colaboratory.intrinsic+json": {
              "type": "string"
            },
            "text/plain": [
              "'AB+'"
            ]
          },
          "metadata": {
            "tags": []
          },
          "execution_count": 51
        }
      ]
    },
    {
      "cell_type": "code",
      "metadata": {
        "colab": {
          "base_uri": "https://localhost:8080/"
        },
        "id": "oVt2i7tl3C0X",
        "outputId": "6e0b7584-ec83-43ca-bd70-0944fbbf327d"
      },
      "source": [
        "humain2 = Human('sharafat khan' , 23 , 'hourse no c-88 block goth behind babu hotel', 'B+')"
      ],
      "execution_count": 52,
      "outputs": [
        {
          "output_type": "stream",
          "text": [
            "Human create hogaya\n"
          ],
          "name": "stdout"
        }
      ]
    },
    {
      "cell_type": "code",
      "metadata": {
        "colab": {
          "base_uri": "https://localhost:8080/",
          "height": 35
        },
        "id": "2j8ad63c3ZS8",
        "outputId": "3f52dc24-c18d-4bff-8c18-316c8f6f984d"
      },
      "source": [
        "humain2.name"
      ],
      "execution_count": 53,
      "outputs": [
        {
          "output_type": "execute_result",
          "data": {
            "application/vnd.google.colaboratory.intrinsic+json": {
              "type": "string"
            },
            "text/plain": [
              "'sharafat khan'"
            ]
          },
          "metadata": {
            "tags": []
          },
          "execution_count": 53
        }
      ]
    },
    {
      "cell_type": "code",
      "metadata": {
        "colab": {
          "base_uri": "https://localhost:8080/"
        },
        "id": "P7xEy8tj3gvk",
        "outputId": "d897590e-f35c-4a4a-b451-9a458b54feaf"
      },
      "source": [
        "humain1.walk()"
      ],
      "execution_count": 55,
      "outputs": [
        {
          "output_type": "stream",
          "text": [
            "Muhammad Fayyaz  is walking towards his success\n"
          ],
          "name": "stdout"
        }
      ]
    },
    {
      "cell_type": "code",
      "metadata": {
        "colab": {
          "base_uri": "https://localhost:8080/"
        },
        "id": "aL60lhJe30WX",
        "outputId": "1082f0d5-aa24-42f4-db72-91c7e3a3c57a"
      },
      "source": [
        "humain2.walk()"
      ],
      "execution_count": 56,
      "outputs": [
        {
          "output_type": "stream",
          "text": [
            "sharafat khan is walking towards his success\n"
          ],
          "name": "stdout"
        }
      ]
    },
    {
      "cell_type": "code",
      "metadata": {
        "id": "biCLlcUj49D4"
      },
      "source": [
        "class Student():\r\n",
        "  def __init__(self , name , age , University , faculty , semester):\r\n",
        "    self.name = name \r\n",
        "    self.age = age \r\n",
        "    self.University = University\r\n",
        "    self.faculty = faculty \r\n",
        "    self.semester = semester\r\n",
        "    print(\"Student record is created\")\r\n",
        "  def subject(self):\r\n",
        "    print(f'{self.name} is learning Artificial Intelligence' )\r\n"
      ],
      "execution_count": 62,
      "outputs": []
    },
    {
      "cell_type": "code",
      "metadata": {
        "colab": {
          "base_uri": "https://localhost:8080/"
        },
        "id": "xkUkVZQX5kuQ",
        "outputId": "4bcf42e3-d94d-4895-93e1-67b48e218e9c"
      },
      "source": [
        "student1 = Student('sharafat' , 23 , 'Federal University' , 'BSIT' , '6th')"
      ],
      "execution_count": 63,
      "outputs": [
        {
          "output_type": "stream",
          "text": [
            "Student record is created\n"
          ],
          "name": "stdout"
        }
      ]
    },
    {
      "cell_type": "code",
      "metadata": {
        "colab": {
          "base_uri": "https://localhost:8080/",
          "height": 35
        },
        "id": "B_Ws9hRP52Ht",
        "outputId": "5da2e229-c740-4776-a9b5-3455933b7526"
      },
      "source": [
        "student1.name"
      ],
      "execution_count": 64,
      "outputs": [
        {
          "output_type": "execute_result",
          "data": {
            "application/vnd.google.colaboratory.intrinsic+json": {
              "type": "string"
            },
            "text/plain": [
              "'sharafat'"
            ]
          },
          "metadata": {
            "tags": []
          },
          "execution_count": 64
        }
      ]
    },
    {
      "cell_type": "code",
      "metadata": {
        "colab": {
          "base_uri": "https://localhost:8080/"
        },
        "id": "qUekD0Hy55Tw",
        "outputId": "9be7bb40-24a2-4302-ce58-09e06c0cffb6"
      },
      "source": [
        "student1.subject()"
      ],
      "execution_count": 65,
      "outputs": [
        {
          "output_type": "stream",
          "text": [
            "sharafat is learning Artificial Intelligence\n"
          ],
          "name": "stdout"
        }
      ]
    },
    {
      "cell_type": "code",
      "metadata": {
        "id": "ZXXtQdhV6I_I"
      },
      "source": [
        "class Employee():\r\n",
        "  def __init__(self , name , age , employee_iD , e_salary , e_rank):\r\n",
        "    self.name = name \r\n",
        "    self.age = age \r\n",
        "    self.employee_iD = employee_iD\r\n",
        "    self.e_salary = e_salary\r\n",
        "    self.e_rank = e_rank\r\n",
        "    print(\"employee record is created\")\r\n",
        "  def work(self):\r\n",
        "    print(f\"{self.name} is working 8 hours\")\r\n",
        "    "
      ],
      "execution_count": 68,
      "outputs": []
    },
    {
      "cell_type": "code",
      "metadata": {
        "colab": {
          "base_uri": "https://localhost:8080/"
        },
        "id": "ga3PAoIo7EWx",
        "outputId": "6e31e179-db39-419a-b463-d41ea95d58bf"
      },
      "source": [
        "e1 = Employee('suleman', 25 , '4343425' , 500000 , 5)"
      ],
      "execution_count": 69,
      "outputs": [
        {
          "output_type": "stream",
          "text": [
            "employee record is created\n"
          ],
          "name": "stdout"
        }
      ]
    },
    {
      "cell_type": "code",
      "metadata": {
        "colab": {
          "base_uri": "https://localhost:8080/",
          "height": 35
        },
        "id": "0kiWOq_W7nmG",
        "outputId": "39c8ef16-c08c-45da-b071-2278376d86e0"
      },
      "source": [
        "e1.name"
      ],
      "execution_count": 70,
      "outputs": [
        {
          "output_type": "execute_result",
          "data": {
            "application/vnd.google.colaboratory.intrinsic+json": {
              "type": "string"
            },
            "text/plain": [
              "'suleman'"
            ]
          },
          "metadata": {
            "tags": []
          },
          "execution_count": 70
        }
      ]
    },
    {
      "cell_type": "code",
      "metadata": {
        "colab": {
          "base_uri": "https://localhost:8080/"
        },
        "id": "sUQf2qn9_aJi",
        "outputId": "266704ce-c9c1-4334-a16b-2da96c745d0e"
      },
      "source": [
        "e1.work()"
      ],
      "execution_count": 71,
      "outputs": [
        {
          "output_type": "stream",
          "text": [
            "suleman is working 8 hours\n"
          ],
          "name": "stdout"
        }
      ]
    },
    {
      "cell_type": "code",
      "metadata": {
        "id": "z3ZSssi1_e8B"
      },
      "source": [
        ""
      ],
      "execution_count": null,
      "outputs": []
    }
  ]
}