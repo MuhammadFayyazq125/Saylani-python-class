{
  "nbformat": 4,
  "nbformat_minor": 0,
  "metadata": {
    "colab": {
      "name": "Class2Feb2021.ipynb",
      "provenance": [],
      "authorship_tag": "ABX9TyNXrzcnMjNhhz/jlCCCkjkz",
      "include_colab_link": true
    },
    "kernelspec": {
      "name": "python3",
      "display_name": "Python 3"
    }
  },
  "cells": [
    {
      "cell_type": "markdown",
      "metadata": {
        "id": "view-in-github",
        "colab_type": "text"
      },
      "source": [
        "<a href=\"https://colab.research.google.com/github/MuhammadFayyazq125/Saylani-python-class/blob/main/Class2Feb2021.ipynb\" target=\"_parent\"><img src=\"https://colab.research.google.com/assets/colab-badge.svg\" alt=\"Open In Colab\"/></a>"
      ]
    },
    {
      "cell_type": "code",
      "metadata": {
        "id": "p7JUABAoF8D2"
      },
      "source": [
        "#odometer hame btata hai k overall kitni running hui hai bike ki ya kaar"
      ],
      "execution_count": 1,
      "outputs": []
    },
    {
      "cell_type": "code",
      "metadata": {
        "id": "7cQi2-FvHySB"
      },
      "source": [
        "#there are two ways to changing the value of an attribute\r\n",
        "# Direct hit\r\n",
        "#Via function\r\n",
        "#this is called get and set"
      ],
      "execution_count": 3,
      "outputs": []
    },
    {
      "cell_type": "code",
      "metadata": {
        "id": "OtCBCNy6IfBn"
      },
      "source": [
        "class car():\r\n",
        "  def __init__(self, make , model , year):\r\n",
        "    self.make = make \r\n",
        "    self.model = model\r\n",
        "    self.year = year\r\n",
        "    self.odometer = 0 # set up a default value\r\n",
        "  def get_descriptive_name(self):\r\n",
        "    long_name = str(f\"{self.year} {self.make} {self.model}\")\r\n",
        "    return long_name.title()\r\n",
        "  def set_odometer(self,mileage):\r\n",
        "    self.odometer = mileage\r\n",
        "    print('value has set')\r\n",
        "  def get_odometer(self):\r\n",
        "    print(f\"this car has {self.odometer} mileage\")\r\n",
        "      "
      ],
      "execution_count": 16,
      "outputs": []
    },
    {
      "cell_type": "code",
      "metadata": {
        "id": "piu8NqqCVhsO"
      },
      "source": [
        "car1 = car(\"honga\" , \"ferrari\" , 2021)"
      ],
      "execution_count": 17,
      "outputs": []
    },
    {
      "cell_type": "code",
      "metadata": {
        "colab": {
          "base_uri": "https://localhost:8080/"
        },
        "id": "Fhtjl86lVsl7",
        "outputId": "6393ccc8-6f70-40b5-da5e-e98e3dd4e5d1"
      },
      "source": [
        "car1.set_odometer(500)\r\n",
        "car1.get_odometer()\r\n"
      ],
      "execution_count": 19,
      "outputs": [
        {
          "output_type": "stream",
          "text": [
            "value has set\n",
            "this car has 500 mileage\n"
          ],
          "name": "stdout"
        }
      ]
    },
    {
      "cell_type": "markdown",
      "metadata": {
        "id": "TN4qhb6UWMG7"
      },
      "source": [
        "Inheritance"
      ]
    },
    {
      "cell_type": "code",
      "metadata": {
        "id": "Defuy4MsV0_O"
      },
      "source": [
        "class Electric_car(car):\r\n",
        "  def __init__(self,make ,model, year,speed):\r\n",
        "    super().__init__(make,model,year)\r\n",
        "    self.speed = 0\r\n",
        "  def set_speed(self,kph):\r\n",
        "    self.speed = kph\r\n",
        "    print(\"Speed has been set\")\r\n",
        "  def get_speed(self):\r\n",
        "    print(f\"{self.model} has {self.kph} speed\")"
      ],
      "execution_count": 31,
      "outputs": []
    },
    {
      "cell_type": "code",
      "metadata": {
        "id": "5T4rI62_Z3Io"
      },
      "source": [
        "\r\n",
        "my_tela = Electric_car('tesla' , 'model honda' , 2016,500)"
      ],
      "execution_count": 33,
      "outputs": []
    },
    {
      "cell_type": "code",
      "metadata": {
        "colab": {
          "base_uri": "https://localhost:8080/",
          "height": 253
        },
        "id": "BxyANwhhaCRH",
        "outputId": "5d8d130e-56a4-44e0-fb16-e4b812253e2d"
      },
      "source": [
        "print(my_tela.get_descriptive_name() + str(my_tela.get_speed()))"
      ],
      "execution_count": 34,
      "outputs": [
        {
          "output_type": "error",
          "ename": "AttributeError",
          "evalue": "ignored",
          "traceback": [
            "\u001b[0;31m---------------------------------------------------------------------------\u001b[0m",
            "\u001b[0;31mAttributeError\u001b[0m                            Traceback (most recent call last)",
            "\u001b[0;32m<ipython-input-34-3314e44a1208>\u001b[0m in \u001b[0;36m<module>\u001b[0;34m()\u001b[0m\n\u001b[0;32m----> 1\u001b[0;31m \u001b[0mprint\u001b[0m\u001b[0;34m(\u001b[0m\u001b[0mmy_tela\u001b[0m\u001b[0;34m.\u001b[0m\u001b[0mget_descriptive_name\u001b[0m\u001b[0;34m(\u001b[0m\u001b[0;34m)\u001b[0m \u001b[0;34m+\u001b[0m \u001b[0mstr\u001b[0m\u001b[0;34m(\u001b[0m\u001b[0mmy_tela\u001b[0m\u001b[0;34m.\u001b[0m\u001b[0mget_speed\u001b[0m\u001b[0;34m(\u001b[0m\u001b[0;34m)\u001b[0m\u001b[0;34m)\u001b[0m\u001b[0;34m)\u001b[0m\u001b[0;34m\u001b[0m\u001b[0;34m\u001b[0m\u001b[0m\n\u001b[0m",
            "\u001b[0;32m<ipython-input-31-b52dd86e357c>\u001b[0m in \u001b[0;36mget_speed\u001b[0;34m(self)\u001b[0m\n\u001b[1;32m      7\u001b[0m     \u001b[0mprint\u001b[0m\u001b[0;34m(\u001b[0m\u001b[0;34m\"Speed has been set\"\u001b[0m\u001b[0;34m)\u001b[0m\u001b[0;34m\u001b[0m\u001b[0;34m\u001b[0m\u001b[0m\n\u001b[1;32m      8\u001b[0m   \u001b[0;32mdef\u001b[0m \u001b[0mget_speed\u001b[0m\u001b[0;34m(\u001b[0m\u001b[0mself\u001b[0m\u001b[0;34m)\u001b[0m\u001b[0;34m:\u001b[0m\u001b[0;34m\u001b[0m\u001b[0;34m\u001b[0m\u001b[0m\n\u001b[0;32m----> 9\u001b[0;31m     \u001b[0mprint\u001b[0m\u001b[0;34m(\u001b[0m\u001b[0;34mf\"{self.model} has {self.kph} speed\"\u001b[0m\u001b[0;34m)\u001b[0m\u001b[0;34m\u001b[0m\u001b[0;34m\u001b[0m\u001b[0m\n\u001b[0m",
            "\u001b[0;31mAttributeError\u001b[0m: 'Electric_car' object has no attribute 'kph'"
          ]
        }
      ]
    },
    {
      "cell_type": "code",
      "metadata": {
        "colab": {
          "base_uri": "https://localhost:8080/"
        },
        "id": "wwYVn72faY0X",
        "outputId": "274ddd89-c7ab-4f7d-b267-c89d23b407f2"
      },
      "source": [
        "my_tela.set_odometer(200)"
      ],
      "execution_count": 29,
      "outputs": [
        {
          "output_type": "stream",
          "text": [
            "value has set\n"
          ],
          "name": "stdout"
        }
      ]
    },
    {
      "cell_type": "code",
      "metadata": {
        "colab": {
          "base_uri": "https://localhost:8080/"
        },
        "id": "DhnFFa39aky3",
        "outputId": "95e6d7ab-d081-4956-d70c-17ac5b927f46"
      },
      "source": [
        "my_tela.get_odometer()"
      ],
      "execution_count": 30,
      "outputs": [
        {
          "output_type": "stream",
          "text": [
            "this car has 200 mileage\n"
          ],
          "name": "stdout"
        }
      ]
    },
    {
      "cell_type": "markdown",
      "metadata": {
        "id": "gGvE5Bt4fQyD"
      },
      "source": [
        "OverRiding methods from the parent class"
      ]
    },
    {
      "cell_type": "markdown",
      "metadata": {
        "id": "785UcOvzgI8x"
      },
      "source": [
        "Instance as Attributes"
      ]
    },
    {
      "cell_type": "code",
      "metadata": {
        "id": "_bsPMotJbUG2"
      },
      "source": [
        ""
      ],
      "execution_count": null,
      "outputs": []
    }
  ]
}