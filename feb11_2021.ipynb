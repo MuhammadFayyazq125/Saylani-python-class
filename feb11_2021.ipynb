{
  "nbformat": 4,
  "nbformat_minor": 0,
  "metadata": {
    "colab": {
      "name": "feb11_2021.ipynb",
      "provenance": [],
      "authorship_tag": "ABX9TyO7LnLwZ0AeQk06GzRmBbib",
      "include_colab_link": true
    },
    "kernelspec": {
      "name": "python3",
      "display_name": "Python 3"
    }
  },
  "cells": [
    {
      "cell_type": "markdown",
      "metadata": {
        "id": "view-in-github",
        "colab_type": "text"
      },
      "source": [
        "<a href=\"https://colab.research.google.com/github/MuhammadFayyazq125/Saylani-python-class/blob/main/feb11_2021.ipynb\" target=\"_parent\"><img src=\"https://colab.research.google.com/assets/colab-badge.svg\" alt=\"Open In Colab\"/></a>"
      ]
    },
    {
      "cell_type": "markdown",
      "metadata": {
        "id": "OsyVm-spezCM"
      },
      "source": [
        "Storing elements"
      ]
    },
    {
      "cell_type": "markdown",
      "metadata": {
        "id": "RlGScYmde4kx"
      },
      "source": [
        "Excercise # 10.3"
      ]
    },
    {
      "cell_type": "code",
      "metadata": {
        "colab": {
          "base_uri": "https://localhost:8080/"
        },
        "id": "3eP9ZH35eyfw",
        "outputId": "faf80e10-e34f-4b6e-950f-01309cad4f66"
      },
      "source": [
        "filesnames = 'guest.txt'\r\n",
        "with open(filenames,'w+') as file_object:\r\n",
        " flag = True\r\n",
        " while(flag):\r\n",
        "    user_names = input(\"Enter your first user or enter q for quit \")\r\n",
        "    quit = \"q\"\r\n",
        "    if user_names !=quit.lower():\r\n",
        "      file_object.write(user_names + \"\\n\")\r\n",
        "    else:\r\n",
        "      flag = False\r\n"
      ],
      "execution_count": 33,
      "outputs": [
        {
          "output_type": "stream",
          "text": [
            "Enter your first user or enter q for quit khan\n",
            "Enter your first user or enter q for quit salmna\n",
            "Enter your first user or enter q for quit salman\n",
            "Enter your first user or enter q for quit sharafat\n",
            "Enter your first user or enter q for quit yaseen\n",
            "Enter your first user or enter q for quit moiz\n",
            "Enter your first user or enter q for quit q\n"
          ],
          "name": "stdout"
        }
      ]
    },
    {
      "cell_type": "code",
      "metadata": {
        "colab": {
          "base_uri": "https://localhost:8080/"
        },
        "id": "FfzUOtlgg6Mu",
        "outputId": "62e341ab-e979-47af-ab82-8f61d039fb8a"
      },
      "source": [
        "with open(filenames,'r') as Names:\r\n",
        "  names_content = Names.read()\r\n",
        "  flag = True\r\n",
        "  while(flag):\r\n",
        "    guest_names = input(\"Tell me your Name please \")\r\n",
        "    quit = 'q'\r\n",
        "    if guest_names == quit.lower():\r\n",
        "      flag = False\r\n",
        "    elif guest_names in names_content:\r\n",
        "      print(\"welcome \")\r\n",
        "    else:\r\n",
        "      print(\"sorry you are not invited\")"
      ],
      "execution_count": 35,
      "outputs": [
        {
          "output_type": "stream",
          "text": [
            "Tell me your Name please sharafat\n",
            "welcome \n",
            "Tell me your Name please yaseen\n",
            "welcome \n",
            "Tell me your Name please ubaid\n",
            "sorry you are not invited\n",
            "Tell me your Name please q\n"
          ],
          "name": "stdout"
        }
      ]
    },
    {
      "cell_type": "code",
      "metadata": {
        "colab": {
          "base_uri": "https://localhost:8080/"
        },
        "id": "fdGWzZuqpJ-_",
        "outputId": "a448af5c-81e9-4a26-be84-c16db5af002f"
      },
      "source": [
        "filenames = \"responses.txt\"\r\n",
        "with open(filenames,'w+') as user_responses:\r\n",
        "  flag = True\r\n",
        "  while(flag):\r\n",
        "    response = input(\"why do you like programming or enter q for quit\")\r\n",
        "    quit = 'q'\r\n",
        "    if response != quit.lower():\r\n",
        "      user_responses.write(response + \"\\n\")\r\n",
        "    else:\r\n",
        "      flag = False\r\n",
        "\r\n",
        "\r\n"
      ],
      "execution_count": 26,
      "outputs": [
        {
          "output_type": "stream",
          "text": [
            "why do you like programming or enter q for quitpagal hun\n",
            "why do you like programming or enter q for quitprograming nahi ati is lea\n",
            "why do you like programming or enter q for quitye seekhne ki koshish karta hun\n",
            "why do you like programming or enter q for quitq\n"
          ],
          "name": "stdout"
        }
      ]
    },
    {
      "cell_type": "code",
      "metadata": {
        "colab": {
          "base_uri": "https://localhost:8080/"
        },
        "id": "FQiEbAbmsGkD",
        "outputId": "d0cb0584-9e44-4e6c-f09a-fbcc86aae67a"
      },
      "source": [
        "with open(filenames , 'r') as all_respones:\r\n",
        "  responses = all_respones.read()\r\n",
        "  print(responses)"
      ],
      "execution_count": 27,
      "outputs": [
        {
          "output_type": "stream",
          "text": [
            "pagal hun\n",
            "programing nahi ati is lea\n",
            "ye seekhne ki koshish karta hun\n",
            "\n"
          ],
          "name": "stdout"
        }
      ]
    },
    {
      "cell_type": "markdown",
      "metadata": {
        "id": "FIME9saLzw8g"
      },
      "source": [
        "Json file"
      ]
    },
    {
      "cell_type": "code",
      "metadata": {
        "id": "LkJYBe8ntEYz"
      },
      "source": [
        "import json"
      ],
      "execution_count": 36,
      "outputs": []
    },
    {
      "cell_type": "code",
      "metadata": {
        "id": "zjOCZv4vz06Y"
      },
      "source": [
        ""
      ],
      "execution_count": null,
      "outputs": []
    }
  ]
}