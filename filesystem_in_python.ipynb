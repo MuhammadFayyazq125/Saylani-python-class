{
  "nbformat": 4,
  "nbformat_minor": 0,
  "metadata": {
    "colab": {
      "name": "filesystem_in_python.ipynb",
      "provenance": [],
      "collapsed_sections": [],
      "authorship_tag": "ABX9TyMeISC5fjfv4CWdxnmsnvPO",
      "include_colab_link": true
    },
    "kernelspec": {
      "name": "python3",
      "display_name": "Python 3"
    }
  },
  "cells": [
    {
      "cell_type": "markdown",
      "metadata": {
        "id": "view-in-github",
        "colab_type": "text"
      },
      "source": [
        "<a href=\"https://colab.research.google.com/github/MuhammadFayyazq125/Saylani-python-class/blob/main/filesystem_in_python.ipynb\" target=\"_parent\"><img src=\"https://colab.research.google.com/assets/colab-badge.svg\" alt=\"Open In Colab\"/></a>"
      ]
    },
    {
      "cell_type": "code",
      "metadata": {
        "id": "CbUVVi6v87mI"
      },
      "source": [
        "with open(\"word.txt\" , 'w') as obj:\r\n",
        "  #here object is a file handler\r\n",
        "  obj.write(\"Existed \")"
      ],
      "execution_count": null,
      "outputs": []
    },
    {
      "cell_type": "code",
      "metadata": {
        "id": "agheGkwQ91Ik"
      },
      "source": [
        "with open(\"hello.txt\" , 'w') as obj1:\r\n",
        "  #here we have not created this hello.txt \r\n",
        "  #but filesystem will create it first\r\n",
        "  # then write whatever you write\r\n",
        "  obj1.write(\"Chalo chalo larkana chalo\")"
      ],
      "execution_count": null,
      "outputs": []
    },
    {
      "cell_type": "code",
      "metadata": {
        "id": "HsoG3Sel_R27",
        "colab": {
          "base_uri": "https://localhost:8080/"
        },
        "outputId": "792d877e-b659-4809-dbff-f0f7d5d38c4c"
      },
      "source": [
        "with open(\"word.txt\" , 'r') as read_file:\r\n",
        "  reader = read_file.read()\r\n",
        "  read_file.seek(10)\r\n",
        "  reader1 = read_file.read()\r\n",
        "print(reader)\r\n",
        "print(reader1)"
      ],
      "execution_count": 9,
      "outputs": [
        {
          "output_type": "stream",
          "text": [
            "Existed type will be no longer available after write\n",
            "pe will be no longer available after write\n"
          ],
          "name": "stdout"
        }
      ]
    },
    {
      "cell_type": "code",
      "metadata": {
        "id": "ZR9F4oVu_mxl"
      },
      "source": [
        "with open(\"word.txt\" , 'w') as obj:\r\n",
        "  #here object is a file handler\r\n",
        "  obj.write(\"Existed \\n\")\r\n",
        "  obj.write(\"Existed file system \\n\")\r\n",
        "  obj.write(\"Existed second file system \\n \")\r\n",
        "  obj.write(\"Existed  not Existed\")\r\n",
        "  obj.write(\"minimum text\")\r\n",
        "  obj.write(\"maximum text \")\r\n",
        "  #jb tk ye stream close nh hogi tb tk ye write karta jaega jese\r\n",
        "  #jese hi hm dusre cell me is stream ko chalaenge to ye \r\n",
        "  #ye open hojaegi"
      ],
      "execution_count": 11,
      "outputs": []
    },
    {
      "cell_type": "code",
      "metadata": {
        "id": "Zmkl1e63Chuf"
      },
      "source": [
        "with open('word.txt', 'r') as w_reader:\r\n",
        "  line = w_reader.readlines()\r\n"
      ],
      "execution_count": 15,
      "outputs": []
    },
    {
      "cell_type": "code",
      "metadata": {
        "colab": {
          "base_uri": "https://localhost:8080/"
        },
        "id": "pZrZawc2Dklg",
        "outputId": "fb287d9d-d36e-475a-f39b-97282631e26c"
      },
      "source": [
        "line"
      ],
      "execution_count": 16,
      "outputs": [
        {
          "output_type": "execute_result",
          "data": {
            "text/plain": [
              "['Existed \\n',\n",
              " 'Existed file system \\n',\n",
              " 'Existed second file system \\n',\n",
              " ' Existed  not Existedminimum textmaximum text ']"
            ]
          },
          "metadata": {
            "tags": []
          },
          "execution_count": 16
        }
      ]
    },
    {
      "cell_type": "code",
      "metadata": {
        "id": "WQZuX08TDmwo"
      },
      "source": [
        "with open(\"word.txt\" , 'a') as obj:\r\n",
        "  #here object is a file handler\r\n",
        "  obj.write(\"Existed \\n\")\r\n",
        "  obj.write(\"Existed file system1 \\n\")\r\n",
        "  obj.write(\"Existed second file system2 \\n \")\r\n",
        "  obj.write(\"Existed  not Existed3\")\r\n",
        "  obj.write(\"minimum text4\\n\")\r\n",
        "  obj.write(\"maximum text5 \\n\")"
      ],
      "execution_count": 20,
      "outputs": []
    },
    {
      "cell_type": "code",
      "metadata": {
        "id": "7O9tC2QpEaeY"
      },
      "source": [
        "# r+ for read and write but isko lazmi existed \r\n",
        "#file chahiye ye khud file create nh karega\r\n",
        "#w+ for write and read ye new file add b karega \r\n",
        "#"
      ],
      "execution_count": null,
      "outputs": []
    }
  ]
}